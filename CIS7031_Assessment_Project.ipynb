{
 "cells": [
  {
   "cell_type": "code",
   "execution_count": 2,
   "metadata": {},
   "outputs": [
    {
     "name": "stdout",
     "output_type": "stream",
     "text": [
      "Initialization Completed\n"
     ]
    },
    {
     "data": {
      "application/vnd.plotly.v1+json": {
       "config": {
        "plotlyServerURL": "https://plot.ly"
       },
       "data": [
        {
         "name": "Agriculture",
         "type": "bar",
         "x": [
          "2009",
          "2010",
          "2011",
          "2012",
          "2013",
          "2014",
          "2015",
          "2016",
          "2017",
          "2018"
         ],
         "y": [
          37700,
          38200,
          36100,
          36100,
          36800,
          42700,
          40700,
          43200,
          40200,
          41100
         ]
        },
        {
         "name": "Production ",
         "type": "bar",
         "x": [
          "2009",
          "2010",
          "2011",
          "2012",
          "2013",
          "2014",
          "2015",
          "2016",
          "2017",
          "2018"
         ],
         "y": [
          156700,
          149800,
          158600,
          154400,
          164200,
          173300,
          172300,
          162500,
          165100,
          165700
         ]
        },
        {
         "name": "Construction ",
         "type": "bar",
         "x": [
          "2009",
          "2010",
          "2011",
          "2012",
          "2013",
          "2014",
          "2015",
          "2016",
          "2017",
          "2018"
         ],
         "y": [
          96600,
          93200,
          90000,
          91300,
          89300,
          97000,
          92600,
          102700,
          90800,
          101800
         ]
        },
        {
         "name": "Retail",
         "type": "bar",
         "x": [
          "2009",
          "2010",
          "2011",
          "2012",
          "2013",
          "2014",
          "2015",
          "2016",
          "2017",
          "2018"
         ],
         "y": [
          345400,
          344500,
          343100,
          347300,
          345100,
          337300,
          357700,
          360200,
          333500,
          347600
         ]
        },
        {
         "name": "ICT",
         "type": "bar",
         "x": [
          "2009",
          "2010",
          "2011",
          "2012",
          "2013",
          "2014",
          "2015",
          "2016",
          "2017",
          "2018"
         ],
         "y": [
          27800,
          27900,
          26400,
          27200,
          26900,
          35700,
          24000,
          34400,
          58900,
          31500
         ]
        },
        {
         "name": "Finance",
         "type": "bar",
         "x": [
          "2009",
          "2010",
          "2011",
          "2012",
          "2013",
          "2014",
          "2015",
          "2016",
          "2017",
          "2018"
         ],
         "y": [
          33800,
          29800,
          33200,
          31100,
          32400,
          32400,
          30800,
          31000,
          32100,
          35500
         ]
        },
        {
         "name": "Real_Estate",
         "type": "bar",
         "x": [
          "2009",
          "2010",
          "2011",
          "2012",
          "2013",
          "2014",
          "2015",
          "2016",
          "2017",
          "2018"
         ],
         "y": [
          13500,
          14600,
          17600,
          18800,
          18000,
          22200,
          19100,
          22700,
          18200,
          25200
         ]
        },
        {
         "name": "Professional_Service",
         "type": "bar",
         "x": [
          "2009",
          "2010",
          "2011",
          "2012",
          "2013",
          "2014",
          "2015",
          "2016",
          "2017",
          "2018"
         ],
         "y": [
          144800,
          145800,
          143600,
          137300,
          149900,
          152900,
          166200,
          161200,
          176400,
          187100
         ]
        },
        {
         "name": "Public_Administration",
         "type": "bar",
         "x": [
          "2009",
          "2010",
          "2011",
          "2012",
          "2013",
          "2014",
          "2015",
          "2016",
          "2017",
          "2018"
         ],
         "y": [
          415600,
          418600,
          425600,
          421000,
          427000,
          427600,
          423200,
          418500,
          424500,
          434900
         ]
        },
        {
         "name": "Other_Service",
         "type": "bar",
         "x": [
          "2009",
          "2010",
          "2011",
          "2012",
          "2013",
          "2014",
          "2015",
          "2016",
          "2017",
          "2018"
         ],
         "y": [
          64200,
          68000,
          72400,
          72800,
          75500,
          73300,
          77200,
          72400,
          83200,
          81800
         ]
        }
       ],
       "layout": {
        "barmode": "group",
        "template": {
         "data": {
          "bar": [
           {
            "error_x": {
             "color": "#2a3f5f"
            },
            "error_y": {
             "color": "#2a3f5f"
            },
            "marker": {
             "line": {
              "color": "#E5ECF6",
              "width": 0.5
             },
             "pattern": {
              "fillmode": "overlay",
              "size": 10,
              "solidity": 0.2
             }
            },
            "type": "bar"
           }
          ],
          "barpolar": [
           {
            "marker": {
             "line": {
              "color": "#E5ECF6",
              "width": 0.5
             },
             "pattern": {
              "fillmode": "overlay",
              "size": 10,
              "solidity": 0.2
             }
            },
            "type": "barpolar"
           }
          ],
          "carpet": [
           {
            "aaxis": {
             "endlinecolor": "#2a3f5f",
             "gridcolor": "white",
             "linecolor": "white",
             "minorgridcolor": "white",
             "startlinecolor": "#2a3f5f"
            },
            "baxis": {
             "endlinecolor": "#2a3f5f",
             "gridcolor": "white",
             "linecolor": "white",
             "minorgridcolor": "white",
             "startlinecolor": "#2a3f5f"
            },
            "type": "carpet"
           }
          ],
          "choropleth": [
           {
            "colorbar": {
             "outlinewidth": 0,
             "ticks": ""
            },
            "type": "choropleth"
           }
          ],
          "contour": [
           {
            "colorbar": {
             "outlinewidth": 0,
             "ticks": ""
            },
            "colorscale": [
             [
              0,
              "#0d0887"
             ],
             [
              0.1111111111111111,
              "#46039f"
             ],
             [
              0.2222222222222222,
              "#7201a8"
             ],
             [
              0.3333333333333333,
              "#9c179e"
             ],
             [
              0.4444444444444444,
              "#bd3786"
             ],
             [
              0.5555555555555556,
              "#d8576b"
             ],
             [
              0.6666666666666666,
              "#ed7953"
             ],
             [
              0.7777777777777778,
              "#fb9f3a"
             ],
             [
              0.8888888888888888,
              "#fdca26"
             ],
             [
              1,
              "#f0f921"
             ]
            ],
            "type": "contour"
           }
          ],
          "contourcarpet": [
           {
            "colorbar": {
             "outlinewidth": 0,
             "ticks": ""
            },
            "type": "contourcarpet"
           }
          ],
          "heatmap": [
           {
            "colorbar": {
             "outlinewidth": 0,
             "ticks": ""
            },
            "colorscale": [
             [
              0,
              "#0d0887"
             ],
             [
              0.1111111111111111,
              "#46039f"
             ],
             [
              0.2222222222222222,
              "#7201a8"
             ],
             [
              0.3333333333333333,
              "#9c179e"
             ],
             [
              0.4444444444444444,
              "#bd3786"
             ],
             [
              0.5555555555555556,
              "#d8576b"
             ],
             [
              0.6666666666666666,
              "#ed7953"
             ],
             [
              0.7777777777777778,
              "#fb9f3a"
             ],
             [
              0.8888888888888888,
              "#fdca26"
             ],
             [
              1,
              "#f0f921"
             ]
            ],
            "type": "heatmap"
           }
          ],
          "heatmapgl": [
           {
            "colorbar": {
             "outlinewidth": 0,
             "ticks": ""
            },
            "colorscale": [
             [
              0,
              "#0d0887"
             ],
             [
              0.1111111111111111,
              "#46039f"
             ],
             [
              0.2222222222222222,
              "#7201a8"
             ],
             [
              0.3333333333333333,
              "#9c179e"
             ],
             [
              0.4444444444444444,
              "#bd3786"
             ],
             [
              0.5555555555555556,
              "#d8576b"
             ],
             [
              0.6666666666666666,
              "#ed7953"
             ],
             [
              0.7777777777777778,
              "#fb9f3a"
             ],
             [
              0.8888888888888888,
              "#fdca26"
             ],
             [
              1,
              "#f0f921"
             ]
            ],
            "type": "heatmapgl"
           }
          ],
          "histogram": [
           {
            "marker": {
             "pattern": {
              "fillmode": "overlay",
              "size": 10,
              "solidity": 0.2
             }
            },
            "type": "histogram"
           }
          ],
          "histogram2d": [
           {
            "colorbar": {
             "outlinewidth": 0,
             "ticks": ""
            },
            "colorscale": [
             [
              0,
              "#0d0887"
             ],
             [
              0.1111111111111111,
              "#46039f"
             ],
             [
              0.2222222222222222,
              "#7201a8"
             ],
             [
              0.3333333333333333,
              "#9c179e"
             ],
             [
              0.4444444444444444,
              "#bd3786"
             ],
             [
              0.5555555555555556,
              "#d8576b"
             ],
             [
              0.6666666666666666,
              "#ed7953"
             ],
             [
              0.7777777777777778,
              "#fb9f3a"
             ],
             [
              0.8888888888888888,
              "#fdca26"
             ],
             [
              1,
              "#f0f921"
             ]
            ],
            "type": "histogram2d"
           }
          ],
          "histogram2dcontour": [
           {
            "colorbar": {
             "outlinewidth": 0,
             "ticks": ""
            },
            "colorscale": [
             [
              0,
              "#0d0887"
             ],
             [
              0.1111111111111111,
              "#46039f"
             ],
             [
              0.2222222222222222,
              "#7201a8"
             ],
             [
              0.3333333333333333,
              "#9c179e"
             ],
             [
              0.4444444444444444,
              "#bd3786"
             ],
             [
              0.5555555555555556,
              "#d8576b"
             ],
             [
              0.6666666666666666,
              "#ed7953"
             ],
             [
              0.7777777777777778,
              "#fb9f3a"
             ],
             [
              0.8888888888888888,
              "#fdca26"
             ],
             [
              1,
              "#f0f921"
             ]
            ],
            "type": "histogram2dcontour"
           }
          ],
          "mesh3d": [
           {
            "colorbar": {
             "outlinewidth": 0,
             "ticks": ""
            },
            "type": "mesh3d"
           }
          ],
          "parcoords": [
           {
            "line": {
             "colorbar": {
              "outlinewidth": 0,
              "ticks": ""
             }
            },
            "type": "parcoords"
           }
          ],
          "pie": [
           {
            "automargin": true,
            "type": "pie"
           }
          ],
          "scatter": [
           {
            "fillpattern": {
             "fillmode": "overlay",
             "size": 10,
             "solidity": 0.2
            },
            "type": "scatter"
           }
          ],
          "scatter3d": [
           {
            "line": {
             "colorbar": {
              "outlinewidth": 0,
              "ticks": ""
             }
            },
            "marker": {
             "colorbar": {
              "outlinewidth": 0,
              "ticks": ""
             }
            },
            "type": "scatter3d"
           }
          ],
          "scattercarpet": [
           {
            "marker": {
             "colorbar": {
              "outlinewidth": 0,
              "ticks": ""
             }
            },
            "type": "scattercarpet"
           }
          ],
          "scattergeo": [
           {
            "marker": {
             "colorbar": {
              "outlinewidth": 0,
              "ticks": ""
             }
            },
            "type": "scattergeo"
           }
          ],
          "scattergl": [
           {
            "marker": {
             "colorbar": {
              "outlinewidth": 0,
              "ticks": ""
             }
            },
            "type": "scattergl"
           }
          ],
          "scattermapbox": [
           {
            "marker": {
             "colorbar": {
              "outlinewidth": 0,
              "ticks": ""
             }
            },
            "type": "scattermapbox"
           }
          ],
          "scatterpolar": [
           {
            "marker": {
             "colorbar": {
              "outlinewidth": 0,
              "ticks": ""
             }
            },
            "type": "scatterpolar"
           }
          ],
          "scatterpolargl": [
           {
            "marker": {
             "colorbar": {
              "outlinewidth": 0,
              "ticks": ""
             }
            },
            "type": "scatterpolargl"
           }
          ],
          "scatterternary": [
           {
            "marker": {
             "colorbar": {
              "outlinewidth": 0,
              "ticks": ""
             }
            },
            "type": "scatterternary"
           }
          ],
          "surface": [
           {
            "colorbar": {
             "outlinewidth": 0,
             "ticks": ""
            },
            "colorscale": [
             [
              0,
              "#0d0887"
             ],
             [
              0.1111111111111111,
              "#46039f"
             ],
             [
              0.2222222222222222,
              "#7201a8"
             ],
             [
              0.3333333333333333,
              "#9c179e"
             ],
             [
              0.4444444444444444,
              "#bd3786"
             ],
             [
              0.5555555555555556,
              "#d8576b"
             ],
             [
              0.6666666666666666,
              "#ed7953"
             ],
             [
              0.7777777777777778,
              "#fb9f3a"
             ],
             [
              0.8888888888888888,
              "#fdca26"
             ],
             [
              1,
              "#f0f921"
             ]
            ],
            "type": "surface"
           }
          ],
          "table": [
           {
            "cells": {
             "fill": {
              "color": "#EBF0F8"
             },
             "line": {
              "color": "white"
             }
            },
            "header": {
             "fill": {
              "color": "#C8D4E3"
             },
             "line": {
              "color": "white"
             }
            },
            "type": "table"
           }
          ]
         },
         "layout": {
          "annotationdefaults": {
           "arrowcolor": "#2a3f5f",
           "arrowhead": 0,
           "arrowwidth": 1
          },
          "autotypenumbers": "strict",
          "coloraxis": {
           "colorbar": {
            "outlinewidth": 0,
            "ticks": ""
           }
          },
          "colorscale": {
           "diverging": [
            [
             0,
             "#8e0152"
            ],
            [
             0.1,
             "#c51b7d"
            ],
            [
             0.2,
             "#de77ae"
            ],
            [
             0.3,
             "#f1b6da"
            ],
            [
             0.4,
             "#fde0ef"
            ],
            [
             0.5,
             "#f7f7f7"
            ],
            [
             0.6,
             "#e6f5d0"
            ],
            [
             0.7,
             "#b8e186"
            ],
            [
             0.8,
             "#7fbc41"
            ],
            [
             0.9,
             "#4d9221"
            ],
            [
             1,
             "#276419"
            ]
           ],
           "sequential": [
            [
             0,
             "#0d0887"
            ],
            [
             0.1111111111111111,
             "#46039f"
            ],
            [
             0.2222222222222222,
             "#7201a8"
            ],
            [
             0.3333333333333333,
             "#9c179e"
            ],
            [
             0.4444444444444444,
             "#bd3786"
            ],
            [
             0.5555555555555556,
             "#d8576b"
            ],
            [
             0.6666666666666666,
             "#ed7953"
            ],
            [
             0.7777777777777778,
             "#fb9f3a"
            ],
            [
             0.8888888888888888,
             "#fdca26"
            ],
            [
             1,
             "#f0f921"
            ]
           ],
           "sequentialminus": [
            [
             0,
             "#0d0887"
            ],
            [
             0.1111111111111111,
             "#46039f"
            ],
            [
             0.2222222222222222,
             "#7201a8"
            ],
            [
             0.3333333333333333,
             "#9c179e"
            ],
            [
             0.4444444444444444,
             "#bd3786"
            ],
            [
             0.5555555555555556,
             "#d8576b"
            ],
            [
             0.6666666666666666,
             "#ed7953"
            ],
            [
             0.7777777777777778,
             "#fb9f3a"
            ],
            [
             0.8888888888888888,
             "#fdca26"
            ],
            [
             1,
             "#f0f921"
            ]
           ]
          },
          "colorway": [
           "#636efa",
           "#EF553B",
           "#00cc96",
           "#ab63fa",
           "#FFA15A",
           "#19d3f3",
           "#FF6692",
           "#B6E880",
           "#FF97FF",
           "#FECB52"
          ],
          "font": {
           "color": "#2a3f5f"
          },
          "geo": {
           "bgcolor": "white",
           "lakecolor": "white",
           "landcolor": "#E5ECF6",
           "showlakes": true,
           "showland": true,
           "subunitcolor": "white"
          },
          "hoverlabel": {
           "align": "left"
          },
          "hovermode": "closest",
          "mapbox": {
           "style": "light"
          },
          "paper_bgcolor": "white",
          "plot_bgcolor": "#E5ECF6",
          "polar": {
           "angularaxis": {
            "gridcolor": "white",
            "linecolor": "white",
            "ticks": ""
           },
           "bgcolor": "#E5ECF6",
           "radialaxis": {
            "gridcolor": "white",
            "linecolor": "white",
            "ticks": ""
           }
          },
          "scene": {
           "xaxis": {
            "backgroundcolor": "#E5ECF6",
            "gridcolor": "white",
            "gridwidth": 2,
            "linecolor": "white",
            "showbackground": true,
            "ticks": "",
            "zerolinecolor": "white"
           },
           "yaxis": {
            "backgroundcolor": "#E5ECF6",
            "gridcolor": "white",
            "gridwidth": 2,
            "linecolor": "white",
            "showbackground": true,
            "ticks": "",
            "zerolinecolor": "white"
           },
           "zaxis": {
            "backgroundcolor": "#E5ECF6",
            "gridcolor": "white",
            "gridwidth": 2,
            "linecolor": "white",
            "showbackground": true,
            "ticks": "",
            "zerolinecolor": "white"
           }
          },
          "shapedefaults": {
           "line": {
            "color": "#2a3f5f"
           }
          },
          "ternary": {
           "aaxis": {
            "gridcolor": "white",
            "linecolor": "white",
            "ticks": ""
           },
           "baxis": {
            "gridcolor": "white",
            "linecolor": "white",
            "ticks": ""
           },
           "bgcolor": "#E5ECF6",
           "caxis": {
            "gridcolor": "white",
            "linecolor": "white",
            "ticks": ""
           }
          },
          "title": {
           "x": 0.05
          },
          "xaxis": {
           "automargin": true,
           "gridcolor": "white",
           "linecolor": "white",
           "ticks": "",
           "title": {
            "standoff": 15
           },
           "zerolinecolor": "white",
           "zerolinewidth": 2
          },
          "yaxis": {
           "automargin": true,
           "gridcolor": "white",
           "linecolor": "white",
           "ticks": "",
           "title": {
            "standoff": 15
           },
           "zerolinecolor": "white",
           "zerolinewidth": 2
          }
         }
        },
        "title": {
         "text": "Wales Employment (2009 to 2018)"
        },
        "xaxis": {
         "tickangle": 45,
         "tickfont": {
          "color": "black",
          "size": 14
         },
         "tickmode": "linear"
        }
       }
      }
     },
     "metadata": {},
     "output_type": "display_data"
    }
   ],
   "source": [
    "#import relevant libraries\n",
    "import pandas as pd\n",
    "import numpy as np\n",
    "import plotly.express as px\n",
    "import plotly.graph_objects as go\n",
    "import matplotlib.pyplot as plt\n",
    "from scipy.cluster import hierarchy\n",
    "import seaborn as sns\n",
    "\n",
    "#%matplotlib inline\n",
    "\n",
    "print(\"Initialization Completed\")\n",
    "\n",
    "# TASK 1 - Data preprocessing\n",
    "\n",
    "#Alter filepath as necessary\n",
    "#This assumes the files are named in the following format: 'WalesStatsExport2009.csv'\n",
    "#path = #Set path as needed\n",
    "path = \"../CIS7031_Programming_for_Data_Analysis_-_-Assessment/\"\n",
    "\n",
    "#Create initial dataframe with column for data to merge into\n",
    "main_df = pd.DataFrame(columns = [\"Industry\"])\n",
    "\n",
    "#Read csv files in loop, and ensure the upper bound of the range includes the last file to be read\n",
    "for v in range(2009, 2019, 1):\n",
    "    temp_df = pd.read_csv(path + str(v) + '.csv', header=None)\n",
    "    temp_df.columns = [\"Industry\",str(v)]\n",
    "    main_df = main_df.merge(temp_df, on='Industry', how='right')\n",
    "     \n",
    "#instantiate values to be used in column iteration\n",
    "current_mean = 0\n",
    "current_min = 0\n",
    "current_max = 0\n",
    "\n",
    "#alter null values to mean value per column, taking care of outliers as well\n",
    "for i in range(2009, 2019, 1):\n",
    "    current_mean = main_df[(str(i))].mean()\n",
    "    current_min = main_df[(str(i))].min()\n",
    "    current_max = main_df[(str(i))].max()\n",
    "    for j in range(0, 10, 1):\n",
    "        current_value = main_df.loc[j, (str(i))]\n",
    "        if current_value is None:\n",
    "            current_value = current_mean\n",
    "        if current_value < current_min:\n",
    "            current_value = current_mean\n",
    "        if current_value > current_max:\n",
    "            current_value = current_mean\n",
    "        main_df.loc[j, (str(i))]=current_value\n",
    "\n",
    "#Rename industries as per assessment specification requirement\n",
    "main_df.loc[0,'Industry'] = \"Agriculture\"\n",
    "main_df.loc[3,'Industry'] = \"Retail\"\n",
    "main_df.loc[4,'Industry'] = \"ICT\"\n",
    "main_df.loc[5,'Industry'] = \"Finance\"\n",
    "main_df.loc[6,'Industry'] = \"Real_Estate\"\n",
    "main_df.loc[7,'Industry'] = \"Professional_Service\"\n",
    "main_df.loc[8,'Industry'] = \"Public_Administration\"\n",
    "main_df.loc[9,'Industry'] = \"Other_Service\"\n",
    "\n",
    "#keep main_df as it is and copy the data to a new frame for calculation\n",
    "calc_df = main_df.copy(deep = True)\n",
    "\n",
    "#create new dataframe for industries data manipulation\n",
    "ind_names_df = pd.DataFrame(main_df['Industry'])\n",
    "\n",
    "industry_names = main_df['Industry']\n",
    "\n",
    "main_df = main_df.set_index(\"Industry\")\n",
    "\n",
    "# TASK 2 - Data Analysis\n",
    "\n",
    "#Initialise arrays for total values\n",
    "total_values_per_ind = np.array([])\n",
    "\n",
    "#Calculate totals per row and add as additional column\n",
    "for r in range(0, 10, 1):\n",
    "    #reset total to 0 for each industry\n",
    "    current_ind_total = 0\n",
    "    for c in range(1, 11, 1):  \n",
    "        current_value = calc_df.iloc[r, c]\n",
    "        current_ind_total = current_ind_total + current_value\n",
    "    #add current industry total to array of totals\n",
    "    total_values_per_ind = np.append(total_values_per_ind, current_ind_total)\n",
    "\n",
    "calc_df['Industry_Totals'] = \"\"\n",
    "    \n",
    "#Add calculated array into dataframe as additional column\n",
    "for q in range(0, 10, 1):\n",
    "    calc_df.iloc[q, 11] = total_values_per_ind[q]\n",
    "\n",
    "total_values_per_year = pd.DataFrame(columns = [\"Industry\"])\n",
    "\n",
    "#Calculate each year's totals and add it to array\n",
    "for t in range(2009, 2019, 1):\n",
    "    temp_df = pd.DataFrame(columns=[\"Industry\", str(t)])\n",
    "    current_year_total = calc_df[(str(t))].sum()\n",
    "    temp_df.loc[0, str(t)] = current_year_total\n",
    "    total_values_per_year = total_values_per_year.merge(temp_df, on='Industry', how='right')\n",
    "\n",
    "total_values_per_year.loc[0, \"Industry\"] = \"Year_Totals\"    \n",
    "\n",
    "#concat calculated row to frame\n",
    "calc_df = pd.concat([calc_df, total_values_per_year], ignore_index=True)\n",
    "\n",
    "figure1 = go.Figure()\n",
    "\n",
    "years = ['2009', '2010', '2011', '2012', '2013', '2014', '2015', '2016', '2017', '2018']\n",
    "\n",
    "for x in range(0 ,10, 1):\n",
    "    values_array = np.array([])\n",
    "    for y in range(0, 10, 1):\n",
    "        values_array = np.append(values_array, calc_df.iloc[x, (y + 1)])    \n",
    "    figure1.add_trace(go.Bar(x=years, \n",
    "                    y=values_array,\n",
    "                    name=str(calc_df.iloc[x,0])\n",
    "                    ))\n",
    "figure1.update_xaxes(tickangle=45, tickfont=dict(color='black', size=14),tickmode='linear')\n",
    "figure1.update_layout(barmode='group', title_text='Wales Employment (2009 to 2018)')\n",
    "figure1.show()\n",
    "\n"
   ]
  },
  {
   "cell_type": "code",
   "execution_count": 3,
   "metadata": {},
   "outputs": [
    {
     "name": "stderr",
     "output_type": "stream",
     "text": [
      "/tmp/ipykernel_24936/3500150814.py:4: FutureWarning:\n",
      "\n",
      "The default fill_method='pad' in DataFrame.pct_change is deprecated and will be removed in a future version. Either fill in any non-leading NA values prior to calling pct_change or specify 'fill_method=None' to not fill NA values.\n",
      "\n",
      "/tmp/ipykernel_24936/3500150814.py:4: FutureWarning:\n",
      "\n",
      "Downcasting object dtype arrays on .fillna, .ffill, .bfill is deprecated and will change in a future version. Call result.infer_objects(copy=False) instead. To opt-in to the future behavior, set `pd.set_option('future.no_silent_downcasting', True)`\n",
      "\n"
     ]
    },
    {
     "data": {
      "application/vnd.plotly.v1+json": {
       "config": {
        "plotlyServerURL": "https://plot.ly"
       },
       "data": [
        {
         "marker": {
          "color": [
           "#0000ff",
           "#ff0000",
           "#00ff00",
           "#dd00ff",
           "#ffaa00",
           "#00bbff",
           "#ff6666",
           "#ccee88",
           "#ffaadd",
           "#ffdd00"
          ]
         },
         "type": "bar",
         "x": [
          "Agriculture",
          "Production ",
          "Construction ",
          "Retail",
          "ICT",
          "Finance",
          "Real_Estate",
          "Professional_Service",
          "Public_Administration",
          "Other_Service"
         ],
         "y": [
          866.2713330913681,
          885.6503993411262,
          836.4072362493552,
          897.1118584294867,
          982.9813524443024,
          814.6051496650746,
          731.6856714182212,
          763.715926285891,
          878.7549871872503,
          831.6978518017391
         ]
        }
       ],
       "layout": {
        "barmode": "group",
        "template": {
         "data": {
          "bar": [
           {
            "error_x": {
             "color": "#2a3f5f"
            },
            "error_y": {
             "color": "#2a3f5f"
            },
            "marker": {
             "line": {
              "color": "#E5ECF6",
              "width": 0.5
             },
             "pattern": {
              "fillmode": "overlay",
              "size": 10,
              "solidity": 0.2
             }
            },
            "type": "bar"
           }
          ],
          "barpolar": [
           {
            "marker": {
             "line": {
              "color": "#E5ECF6",
              "width": 0.5
             },
             "pattern": {
              "fillmode": "overlay",
              "size": 10,
              "solidity": 0.2
             }
            },
            "type": "barpolar"
           }
          ],
          "carpet": [
           {
            "aaxis": {
             "endlinecolor": "#2a3f5f",
             "gridcolor": "white",
             "linecolor": "white",
             "minorgridcolor": "white",
             "startlinecolor": "#2a3f5f"
            },
            "baxis": {
             "endlinecolor": "#2a3f5f",
             "gridcolor": "white",
             "linecolor": "white",
             "minorgridcolor": "white",
             "startlinecolor": "#2a3f5f"
            },
            "type": "carpet"
           }
          ],
          "choropleth": [
           {
            "colorbar": {
             "outlinewidth": 0,
             "ticks": ""
            },
            "type": "choropleth"
           }
          ],
          "contour": [
           {
            "colorbar": {
             "outlinewidth": 0,
             "ticks": ""
            },
            "colorscale": [
             [
              0,
              "#0d0887"
             ],
             [
              0.1111111111111111,
              "#46039f"
             ],
             [
              0.2222222222222222,
              "#7201a8"
             ],
             [
              0.3333333333333333,
              "#9c179e"
             ],
             [
              0.4444444444444444,
              "#bd3786"
             ],
             [
              0.5555555555555556,
              "#d8576b"
             ],
             [
              0.6666666666666666,
              "#ed7953"
             ],
             [
              0.7777777777777778,
              "#fb9f3a"
             ],
             [
              0.8888888888888888,
              "#fdca26"
             ],
             [
              1,
              "#f0f921"
             ]
            ],
            "type": "contour"
           }
          ],
          "contourcarpet": [
           {
            "colorbar": {
             "outlinewidth": 0,
             "ticks": ""
            },
            "type": "contourcarpet"
           }
          ],
          "heatmap": [
           {
            "colorbar": {
             "outlinewidth": 0,
             "ticks": ""
            },
            "colorscale": [
             [
              0,
              "#0d0887"
             ],
             [
              0.1111111111111111,
              "#46039f"
             ],
             [
              0.2222222222222222,
              "#7201a8"
             ],
             [
              0.3333333333333333,
              "#9c179e"
             ],
             [
              0.4444444444444444,
              "#bd3786"
             ],
             [
              0.5555555555555556,
              "#d8576b"
             ],
             [
              0.6666666666666666,
              "#ed7953"
             ],
             [
              0.7777777777777778,
              "#fb9f3a"
             ],
             [
              0.8888888888888888,
              "#fdca26"
             ],
             [
              1,
              "#f0f921"
             ]
            ],
            "type": "heatmap"
           }
          ],
          "heatmapgl": [
           {
            "colorbar": {
             "outlinewidth": 0,
             "ticks": ""
            },
            "colorscale": [
             [
              0,
              "#0d0887"
             ],
             [
              0.1111111111111111,
              "#46039f"
             ],
             [
              0.2222222222222222,
              "#7201a8"
             ],
             [
              0.3333333333333333,
              "#9c179e"
             ],
             [
              0.4444444444444444,
              "#bd3786"
             ],
             [
              0.5555555555555556,
              "#d8576b"
             ],
             [
              0.6666666666666666,
              "#ed7953"
             ],
             [
              0.7777777777777778,
              "#fb9f3a"
             ],
             [
              0.8888888888888888,
              "#fdca26"
             ],
             [
              1,
              "#f0f921"
             ]
            ],
            "type": "heatmapgl"
           }
          ],
          "histogram": [
           {
            "marker": {
             "pattern": {
              "fillmode": "overlay",
              "size": 10,
              "solidity": 0.2
             }
            },
            "type": "histogram"
           }
          ],
          "histogram2d": [
           {
            "colorbar": {
             "outlinewidth": 0,
             "ticks": ""
            },
            "colorscale": [
             [
              0,
              "#0d0887"
             ],
             [
              0.1111111111111111,
              "#46039f"
             ],
             [
              0.2222222222222222,
              "#7201a8"
             ],
             [
              0.3333333333333333,
              "#9c179e"
             ],
             [
              0.4444444444444444,
              "#bd3786"
             ],
             [
              0.5555555555555556,
              "#d8576b"
             ],
             [
              0.6666666666666666,
              "#ed7953"
             ],
             [
              0.7777777777777778,
              "#fb9f3a"
             ],
             [
              0.8888888888888888,
              "#fdca26"
             ],
             [
              1,
              "#f0f921"
             ]
            ],
            "type": "histogram2d"
           }
          ],
          "histogram2dcontour": [
           {
            "colorbar": {
             "outlinewidth": 0,
             "ticks": ""
            },
            "colorscale": [
             [
              0,
              "#0d0887"
             ],
             [
              0.1111111111111111,
              "#46039f"
             ],
             [
              0.2222222222222222,
              "#7201a8"
             ],
             [
              0.3333333333333333,
              "#9c179e"
             ],
             [
              0.4444444444444444,
              "#bd3786"
             ],
             [
              0.5555555555555556,
              "#d8576b"
             ],
             [
              0.6666666666666666,
              "#ed7953"
             ],
             [
              0.7777777777777778,
              "#fb9f3a"
             ],
             [
              0.8888888888888888,
              "#fdca26"
             ],
             [
              1,
              "#f0f921"
             ]
            ],
            "type": "histogram2dcontour"
           }
          ],
          "mesh3d": [
           {
            "colorbar": {
             "outlinewidth": 0,
             "ticks": ""
            },
            "type": "mesh3d"
           }
          ],
          "parcoords": [
           {
            "line": {
             "colorbar": {
              "outlinewidth": 0,
              "ticks": ""
             }
            },
            "type": "parcoords"
           }
          ],
          "pie": [
           {
            "automargin": true,
            "type": "pie"
           }
          ],
          "scatter": [
           {
            "fillpattern": {
             "fillmode": "overlay",
             "size": 10,
             "solidity": 0.2
            },
            "type": "scatter"
           }
          ],
          "scatter3d": [
           {
            "line": {
             "colorbar": {
              "outlinewidth": 0,
              "ticks": ""
             }
            },
            "marker": {
             "colorbar": {
              "outlinewidth": 0,
              "ticks": ""
             }
            },
            "type": "scatter3d"
           }
          ],
          "scattercarpet": [
           {
            "marker": {
             "colorbar": {
              "outlinewidth": 0,
              "ticks": ""
             }
            },
            "type": "scattercarpet"
           }
          ],
          "scattergeo": [
           {
            "marker": {
             "colorbar": {
              "outlinewidth": 0,
              "ticks": ""
             }
            },
            "type": "scattergeo"
           }
          ],
          "scattergl": [
           {
            "marker": {
             "colorbar": {
              "outlinewidth": 0,
              "ticks": ""
             }
            },
            "type": "scattergl"
           }
          ],
          "scattermapbox": [
           {
            "marker": {
             "colorbar": {
              "outlinewidth": 0,
              "ticks": ""
             }
            },
            "type": "scattermapbox"
           }
          ],
          "scatterpolar": [
           {
            "marker": {
             "colorbar": {
              "outlinewidth": 0,
              "ticks": ""
             }
            },
            "type": "scatterpolar"
           }
          ],
          "scatterpolargl": [
           {
            "marker": {
             "colorbar": {
              "outlinewidth": 0,
              "ticks": ""
             }
            },
            "type": "scatterpolargl"
           }
          ],
          "scatterternary": [
           {
            "marker": {
             "colorbar": {
              "outlinewidth": 0,
              "ticks": ""
             }
            },
            "type": "scatterternary"
           }
          ],
          "surface": [
           {
            "colorbar": {
             "outlinewidth": 0,
             "ticks": ""
            },
            "colorscale": [
             [
              0,
              "#0d0887"
             ],
             [
              0.1111111111111111,
              "#46039f"
             ],
             [
              0.2222222222222222,
              "#7201a8"
             ],
             [
              0.3333333333333333,
              "#9c179e"
             ],
             [
              0.4444444444444444,
              "#bd3786"
             ],
             [
              0.5555555555555556,
              "#d8576b"
             ],
             [
              0.6666666666666666,
              "#ed7953"
             ],
             [
              0.7777777777777778,
              "#fb9f3a"
             ],
             [
              0.8888888888888888,
              "#fdca26"
             ],
             [
              1,
              "#f0f921"
             ]
            ],
            "type": "surface"
           }
          ],
          "table": [
           {
            "cells": {
             "fill": {
              "color": "#EBF0F8"
             },
             "line": {
              "color": "white"
             }
            },
            "header": {
             "fill": {
              "color": "#C8D4E3"
             },
             "line": {
              "color": "white"
             }
            },
            "type": "table"
           }
          ]
         },
         "layout": {
          "annotationdefaults": {
           "arrowcolor": "#2a3f5f",
           "arrowhead": 0,
           "arrowwidth": 1
          },
          "autotypenumbers": "strict",
          "coloraxis": {
           "colorbar": {
            "outlinewidth": 0,
            "ticks": ""
           }
          },
          "colorscale": {
           "diverging": [
            [
             0,
             "#8e0152"
            ],
            [
             0.1,
             "#c51b7d"
            ],
            [
             0.2,
             "#de77ae"
            ],
            [
             0.3,
             "#f1b6da"
            ],
            [
             0.4,
             "#fde0ef"
            ],
            [
             0.5,
             "#f7f7f7"
            ],
            [
             0.6,
             "#e6f5d0"
            ],
            [
             0.7,
             "#b8e186"
            ],
            [
             0.8,
             "#7fbc41"
            ],
            [
             0.9,
             "#4d9221"
            ],
            [
             1,
             "#276419"
            ]
           ],
           "sequential": [
            [
             0,
             "#0d0887"
            ],
            [
             0.1111111111111111,
             "#46039f"
            ],
            [
             0.2222222222222222,
             "#7201a8"
            ],
            [
             0.3333333333333333,
             "#9c179e"
            ],
            [
             0.4444444444444444,
             "#bd3786"
            ],
            [
             0.5555555555555556,
             "#d8576b"
            ],
            [
             0.6666666666666666,
             "#ed7953"
            ],
            [
             0.7777777777777778,
             "#fb9f3a"
            ],
            [
             0.8888888888888888,
             "#fdca26"
            ],
            [
             1,
             "#f0f921"
            ]
           ],
           "sequentialminus": [
            [
             0,
             "#0d0887"
            ],
            [
             0.1111111111111111,
             "#46039f"
            ],
            [
             0.2222222222222222,
             "#7201a8"
            ],
            [
             0.3333333333333333,
             "#9c179e"
            ],
            [
             0.4444444444444444,
             "#bd3786"
            ],
            [
             0.5555555555555556,
             "#d8576b"
            ],
            [
             0.6666666666666666,
             "#ed7953"
            ],
            [
             0.7777777777777778,
             "#fb9f3a"
            ],
            [
             0.8888888888888888,
             "#fdca26"
            ],
            [
             1,
             "#f0f921"
            ]
           ]
          },
          "colorway": [
           "#636efa",
           "#EF553B",
           "#00cc96",
           "#ab63fa",
           "#FFA15A",
           "#19d3f3",
           "#FF6692",
           "#B6E880",
           "#FF97FF",
           "#FECB52"
          ],
          "font": {
           "color": "#2a3f5f"
          },
          "geo": {
           "bgcolor": "white",
           "lakecolor": "white",
           "landcolor": "#E5ECF6",
           "showlakes": true,
           "showland": true,
           "subunitcolor": "white"
          },
          "hoverlabel": {
           "align": "left"
          },
          "hovermode": "closest",
          "mapbox": {
           "style": "light"
          },
          "paper_bgcolor": "white",
          "plot_bgcolor": "#E5ECF6",
          "polar": {
           "angularaxis": {
            "gridcolor": "white",
            "linecolor": "white",
            "ticks": ""
           },
           "bgcolor": "#E5ECF6",
           "radialaxis": {
            "gridcolor": "white",
            "linecolor": "white",
            "ticks": ""
           }
          },
          "scene": {
           "xaxis": {
            "backgroundcolor": "#E5ECF6",
            "gridcolor": "white",
            "gridwidth": 2,
            "linecolor": "white",
            "showbackground": true,
            "ticks": "",
            "zerolinecolor": "white"
           },
           "yaxis": {
            "backgroundcolor": "#E5ECF6",
            "gridcolor": "white",
            "gridwidth": 2,
            "linecolor": "white",
            "showbackground": true,
            "ticks": "",
            "zerolinecolor": "white"
           },
           "zaxis": {
            "backgroundcolor": "#E5ECF6",
            "gridcolor": "white",
            "gridwidth": 2,
            "linecolor": "white",
            "showbackground": true,
            "ticks": "",
            "zerolinecolor": "white"
           }
          },
          "shapedefaults": {
           "line": {
            "color": "#2a3f5f"
           }
          },
          "ternary": {
           "aaxis": {
            "gridcolor": "white",
            "linecolor": "white",
            "ticks": ""
           },
           "baxis": {
            "gridcolor": "white",
            "linecolor": "white",
            "ticks": ""
           },
           "bgcolor": "#E5ECF6",
           "caxis": {
            "gridcolor": "white",
            "linecolor": "white",
            "ticks": ""
           }
          },
          "title": {
           "x": 0.05
          },
          "xaxis": {
           "automargin": true,
           "gridcolor": "white",
           "linecolor": "white",
           "ticks": "",
           "title": {
            "standoff": 15
           },
           "zerolinecolor": "white",
           "zerolinewidth": 2
          },
          "yaxis": {
           "automargin": true,
           "gridcolor": "white",
           "linecolor": "white",
           "ticks": "",
           "title": {
            "standoff": 15
           },
           "zerolinecolor": "white",
           "zerolinewidth": 2
          }
         }
        },
        "title": {
         "text": "Wales Employment Total Change Percentage(%) (2009 to 2018)"
        },
        "xaxis": {
         "tickangle": 45,
         "tickfont": {
          "color": "black",
          "size": 14
         },
         "tickmode": "linear"
        }
       }
      }
     },
     "metadata": {},
     "output_type": "display_data"
    },
    {
     "data": {
      "application/vnd.plotly.v1+json": {
       "config": {
        "plotlyServerURL": "https://plot.ly"
       },
       "data": [
        {
         "marker": {
          "color": "#9999dd"
         },
         "type": "bar",
         "x": [
          "2009",
          "2010",
          "2011",
          "2012",
          "2013",
          "2014",
          "2015",
          "2016",
          "2017",
          "2018"
         ],
         "y": [
          1336100,
          1330400,
          1346600,
          1337300,
          1365100,
          1394400,
          1403800,
          1408800,
          1422900,
          1452200
         ]
        }
       ],
       "layout": {
        "barmode": "group",
        "template": {
         "data": {
          "bar": [
           {
            "error_x": {
             "color": "#2a3f5f"
            },
            "error_y": {
             "color": "#2a3f5f"
            },
            "marker": {
             "line": {
              "color": "#E5ECF6",
              "width": 0.5
             },
             "pattern": {
              "fillmode": "overlay",
              "size": 10,
              "solidity": 0.2
             }
            },
            "type": "bar"
           }
          ],
          "barpolar": [
           {
            "marker": {
             "line": {
              "color": "#E5ECF6",
              "width": 0.5
             },
             "pattern": {
              "fillmode": "overlay",
              "size": 10,
              "solidity": 0.2
             }
            },
            "type": "barpolar"
           }
          ],
          "carpet": [
           {
            "aaxis": {
             "endlinecolor": "#2a3f5f",
             "gridcolor": "white",
             "linecolor": "white",
             "minorgridcolor": "white",
             "startlinecolor": "#2a3f5f"
            },
            "baxis": {
             "endlinecolor": "#2a3f5f",
             "gridcolor": "white",
             "linecolor": "white",
             "minorgridcolor": "white",
             "startlinecolor": "#2a3f5f"
            },
            "type": "carpet"
           }
          ],
          "choropleth": [
           {
            "colorbar": {
             "outlinewidth": 0,
             "ticks": ""
            },
            "type": "choropleth"
           }
          ],
          "contour": [
           {
            "colorbar": {
             "outlinewidth": 0,
             "ticks": ""
            },
            "colorscale": [
             [
              0,
              "#0d0887"
             ],
             [
              0.1111111111111111,
              "#46039f"
             ],
             [
              0.2222222222222222,
              "#7201a8"
             ],
             [
              0.3333333333333333,
              "#9c179e"
             ],
             [
              0.4444444444444444,
              "#bd3786"
             ],
             [
              0.5555555555555556,
              "#d8576b"
             ],
             [
              0.6666666666666666,
              "#ed7953"
             ],
             [
              0.7777777777777778,
              "#fb9f3a"
             ],
             [
              0.8888888888888888,
              "#fdca26"
             ],
             [
              1,
              "#f0f921"
             ]
            ],
            "type": "contour"
           }
          ],
          "contourcarpet": [
           {
            "colorbar": {
             "outlinewidth": 0,
             "ticks": ""
            },
            "type": "contourcarpet"
           }
          ],
          "heatmap": [
           {
            "colorbar": {
             "outlinewidth": 0,
             "ticks": ""
            },
            "colorscale": [
             [
              0,
              "#0d0887"
             ],
             [
              0.1111111111111111,
              "#46039f"
             ],
             [
              0.2222222222222222,
              "#7201a8"
             ],
             [
              0.3333333333333333,
              "#9c179e"
             ],
             [
              0.4444444444444444,
              "#bd3786"
             ],
             [
              0.5555555555555556,
              "#d8576b"
             ],
             [
              0.6666666666666666,
              "#ed7953"
             ],
             [
              0.7777777777777778,
              "#fb9f3a"
             ],
             [
              0.8888888888888888,
              "#fdca26"
             ],
             [
              1,
              "#f0f921"
             ]
            ],
            "type": "heatmap"
           }
          ],
          "heatmapgl": [
           {
            "colorbar": {
             "outlinewidth": 0,
             "ticks": ""
            },
            "colorscale": [
             [
              0,
              "#0d0887"
             ],
             [
              0.1111111111111111,
              "#46039f"
             ],
             [
              0.2222222222222222,
              "#7201a8"
             ],
             [
              0.3333333333333333,
              "#9c179e"
             ],
             [
              0.4444444444444444,
              "#bd3786"
             ],
             [
              0.5555555555555556,
              "#d8576b"
             ],
             [
              0.6666666666666666,
              "#ed7953"
             ],
             [
              0.7777777777777778,
              "#fb9f3a"
             ],
             [
              0.8888888888888888,
              "#fdca26"
             ],
             [
              1,
              "#f0f921"
             ]
            ],
            "type": "heatmapgl"
           }
          ],
          "histogram": [
           {
            "marker": {
             "pattern": {
              "fillmode": "overlay",
              "size": 10,
              "solidity": 0.2
             }
            },
            "type": "histogram"
           }
          ],
          "histogram2d": [
           {
            "colorbar": {
             "outlinewidth": 0,
             "ticks": ""
            },
            "colorscale": [
             [
              0,
              "#0d0887"
             ],
             [
              0.1111111111111111,
              "#46039f"
             ],
             [
              0.2222222222222222,
              "#7201a8"
             ],
             [
              0.3333333333333333,
              "#9c179e"
             ],
             [
              0.4444444444444444,
              "#bd3786"
             ],
             [
              0.5555555555555556,
              "#d8576b"
             ],
             [
              0.6666666666666666,
              "#ed7953"
             ],
             [
              0.7777777777777778,
              "#fb9f3a"
             ],
             [
              0.8888888888888888,
              "#fdca26"
             ],
             [
              1,
              "#f0f921"
             ]
            ],
            "type": "histogram2d"
           }
          ],
          "histogram2dcontour": [
           {
            "colorbar": {
             "outlinewidth": 0,
             "ticks": ""
            },
            "colorscale": [
             [
              0,
              "#0d0887"
             ],
             [
              0.1111111111111111,
              "#46039f"
             ],
             [
              0.2222222222222222,
              "#7201a8"
             ],
             [
              0.3333333333333333,
              "#9c179e"
             ],
             [
              0.4444444444444444,
              "#bd3786"
             ],
             [
              0.5555555555555556,
              "#d8576b"
             ],
             [
              0.6666666666666666,
              "#ed7953"
             ],
             [
              0.7777777777777778,
              "#fb9f3a"
             ],
             [
              0.8888888888888888,
              "#fdca26"
             ],
             [
              1,
              "#f0f921"
             ]
            ],
            "type": "histogram2dcontour"
           }
          ],
          "mesh3d": [
           {
            "colorbar": {
             "outlinewidth": 0,
             "ticks": ""
            },
            "type": "mesh3d"
           }
          ],
          "parcoords": [
           {
            "line": {
             "colorbar": {
              "outlinewidth": 0,
              "ticks": ""
             }
            },
            "type": "parcoords"
           }
          ],
          "pie": [
           {
            "automargin": true,
            "type": "pie"
           }
          ],
          "scatter": [
           {
            "fillpattern": {
             "fillmode": "overlay",
             "size": 10,
             "solidity": 0.2
            },
            "type": "scatter"
           }
          ],
          "scatter3d": [
           {
            "line": {
             "colorbar": {
              "outlinewidth": 0,
              "ticks": ""
             }
            },
            "marker": {
             "colorbar": {
              "outlinewidth": 0,
              "ticks": ""
             }
            },
            "type": "scatter3d"
           }
          ],
          "scattercarpet": [
           {
            "marker": {
             "colorbar": {
              "outlinewidth": 0,
              "ticks": ""
             }
            },
            "type": "scattercarpet"
           }
          ],
          "scattergeo": [
           {
            "marker": {
             "colorbar": {
              "outlinewidth": 0,
              "ticks": ""
             }
            },
            "type": "scattergeo"
           }
          ],
          "scattergl": [
           {
            "marker": {
             "colorbar": {
              "outlinewidth": 0,
              "ticks": ""
             }
            },
            "type": "scattergl"
           }
          ],
          "scattermapbox": [
           {
            "marker": {
             "colorbar": {
              "outlinewidth": 0,
              "ticks": ""
             }
            },
            "type": "scattermapbox"
           }
          ],
          "scatterpolar": [
           {
            "marker": {
             "colorbar": {
              "outlinewidth": 0,
              "ticks": ""
             }
            },
            "type": "scatterpolar"
           }
          ],
          "scatterpolargl": [
           {
            "marker": {
             "colorbar": {
              "outlinewidth": 0,
              "ticks": ""
             }
            },
            "type": "scatterpolargl"
           }
          ],
          "scatterternary": [
           {
            "marker": {
             "colorbar": {
              "outlinewidth": 0,
              "ticks": ""
             }
            },
            "type": "scatterternary"
           }
          ],
          "surface": [
           {
            "colorbar": {
             "outlinewidth": 0,
             "ticks": ""
            },
            "colorscale": [
             [
              0,
              "#0d0887"
             ],
             [
              0.1111111111111111,
              "#46039f"
             ],
             [
              0.2222222222222222,
              "#7201a8"
             ],
             [
              0.3333333333333333,
              "#9c179e"
             ],
             [
              0.4444444444444444,
              "#bd3786"
             ],
             [
              0.5555555555555556,
              "#d8576b"
             ],
             [
              0.6666666666666666,
              "#ed7953"
             ],
             [
              0.7777777777777778,
              "#fb9f3a"
             ],
             [
              0.8888888888888888,
              "#fdca26"
             ],
             [
              1,
              "#f0f921"
             ]
            ],
            "type": "surface"
           }
          ],
          "table": [
           {
            "cells": {
             "fill": {
              "color": "#EBF0F8"
             },
             "line": {
              "color": "white"
             }
            },
            "header": {
             "fill": {
              "color": "#C8D4E3"
             },
             "line": {
              "color": "white"
             }
            },
            "type": "table"
           }
          ]
         },
         "layout": {
          "annotationdefaults": {
           "arrowcolor": "#2a3f5f",
           "arrowhead": 0,
           "arrowwidth": 1
          },
          "autotypenumbers": "strict",
          "coloraxis": {
           "colorbar": {
            "outlinewidth": 0,
            "ticks": ""
           }
          },
          "colorscale": {
           "diverging": [
            [
             0,
             "#8e0152"
            ],
            [
             0.1,
             "#c51b7d"
            ],
            [
             0.2,
             "#de77ae"
            ],
            [
             0.3,
             "#f1b6da"
            ],
            [
             0.4,
             "#fde0ef"
            ],
            [
             0.5,
             "#f7f7f7"
            ],
            [
             0.6,
             "#e6f5d0"
            ],
            [
             0.7,
             "#b8e186"
            ],
            [
             0.8,
             "#7fbc41"
            ],
            [
             0.9,
             "#4d9221"
            ],
            [
             1,
             "#276419"
            ]
           ],
           "sequential": [
            [
             0,
             "#0d0887"
            ],
            [
             0.1111111111111111,
             "#46039f"
            ],
            [
             0.2222222222222222,
             "#7201a8"
            ],
            [
             0.3333333333333333,
             "#9c179e"
            ],
            [
             0.4444444444444444,
             "#bd3786"
            ],
            [
             0.5555555555555556,
             "#d8576b"
            ],
            [
             0.6666666666666666,
             "#ed7953"
            ],
            [
             0.7777777777777778,
             "#fb9f3a"
            ],
            [
             0.8888888888888888,
             "#fdca26"
            ],
            [
             1,
             "#f0f921"
            ]
           ],
           "sequentialminus": [
            [
             0,
             "#0d0887"
            ],
            [
             0.1111111111111111,
             "#46039f"
            ],
            [
             0.2222222222222222,
             "#7201a8"
            ],
            [
             0.3333333333333333,
             "#9c179e"
            ],
            [
             0.4444444444444444,
             "#bd3786"
            ],
            [
             0.5555555555555556,
             "#d8576b"
            ],
            [
             0.6666666666666666,
             "#ed7953"
            ],
            [
             0.7777777777777778,
             "#fb9f3a"
            ],
            [
             0.8888888888888888,
             "#fdca26"
            ],
            [
             1,
             "#f0f921"
            ]
           ]
          },
          "colorway": [
           "#636efa",
           "#EF553B",
           "#00cc96",
           "#ab63fa",
           "#FFA15A",
           "#19d3f3",
           "#FF6692",
           "#B6E880",
           "#FF97FF",
           "#FECB52"
          ],
          "font": {
           "color": "#2a3f5f"
          },
          "geo": {
           "bgcolor": "white",
           "lakecolor": "white",
           "landcolor": "#E5ECF6",
           "showlakes": true,
           "showland": true,
           "subunitcolor": "white"
          },
          "hoverlabel": {
           "align": "left"
          },
          "hovermode": "closest",
          "mapbox": {
           "style": "light"
          },
          "paper_bgcolor": "white",
          "plot_bgcolor": "#E5ECF6",
          "polar": {
           "angularaxis": {
            "gridcolor": "white",
            "linecolor": "white",
            "ticks": ""
           },
           "bgcolor": "#E5ECF6",
           "radialaxis": {
            "gridcolor": "white",
            "linecolor": "white",
            "ticks": ""
           }
          },
          "scene": {
           "xaxis": {
            "backgroundcolor": "#E5ECF6",
            "gridcolor": "white",
            "gridwidth": 2,
            "linecolor": "white",
            "showbackground": true,
            "ticks": "",
            "zerolinecolor": "white"
           },
           "yaxis": {
            "backgroundcolor": "#E5ECF6",
            "gridcolor": "white",
            "gridwidth": 2,
            "linecolor": "white",
            "showbackground": true,
            "ticks": "",
            "zerolinecolor": "white"
           },
           "zaxis": {
            "backgroundcolor": "#E5ECF6",
            "gridcolor": "white",
            "gridwidth": 2,
            "linecolor": "white",
            "showbackground": true,
            "ticks": "",
            "zerolinecolor": "white"
           }
          },
          "shapedefaults": {
           "line": {
            "color": "#2a3f5f"
           }
          },
          "ternary": {
           "aaxis": {
            "gridcolor": "white",
            "linecolor": "white",
            "ticks": ""
           },
           "baxis": {
            "gridcolor": "white",
            "linecolor": "white",
            "ticks": ""
           },
           "bgcolor": "#E5ECF6",
           "caxis": {
            "gridcolor": "white",
            "linecolor": "white",
            "ticks": ""
           }
          },
          "title": {
           "x": 0.05
          },
          "xaxis": {
           "automargin": true,
           "gridcolor": "white",
           "linecolor": "white",
           "ticks": "",
           "title": {
            "standoff": 15
           },
           "zerolinecolor": "white",
           "zerolinewidth": 2
          },
          "yaxis": {
           "automargin": true,
           "gridcolor": "white",
           "linecolor": "white",
           "ticks": "",
           "title": {
            "standoff": 15
           },
           "zerolinecolor": "white",
           "zerolinewidth": 2
          }
         }
        },
        "title": {
         "text": "Wales Employment Totals Per Year  (2009 to 2018)"
        },
        "xaxis": {
         "tickangle": 45,
         "tickfont": {
          "color": "black",
          "size": 14
         },
         "tickmode": "linear"
        }
       }
      }
     },
     "metadata": {},
     "output_type": "display_data"
    }
   ],
   "source": [
    "#calculate growth of industries per year\n",
    "new_calc_df = calc_df.drop(['Industry'], axis = 1)\n",
    "\n",
    "pct_chg_df = pd.DataFrame(new_calc_df.pct_change(axis = 1))\n",
    "\n",
    "pct_chg_df.loc[: ,'Industry_Totals']= pct_chg_df.sum(axis=1)\n",
    "\n",
    "pct_chg_df = pd.concat([pct_chg_df, ind_names_df], axis=1)\n",
    "\n",
    "pct_chg_df.drop([10], inplace = True)\n",
    "\n",
    "pct_chg_plot_df = pd.DataFrame(pct_chg_df['Industry_Totals'])\n",
    "\n",
    "pct_chg_plot_df = pd.concat([pct_chg_plot_df, pct_chg_df['Industry']], axis=1)\n",
    "\n",
    "pct_chg_values_array = np.array([])\n",
    "pct_chg_names_array = np.array([])\n",
    "\n",
    "for r in range(0, 10, 1):\n",
    "    pct_chg_values_array = np.append(pct_chg_values_array, (pct_chg_plot_df.iloc[r,0] * 100))\n",
    "    pct_chg_names_array = np.append(pct_chg_names_array, pct_chg_plot_df.iloc[r,1])\n",
    "\n",
    "#Set color values for bars\n",
    "colors = ['#0000ff', '#ff0000', '#00ff00', '#dd00ff', '#ffaa00', '#00bbff', '#ff6666', '#ccee88', '#ffaadd', '#ffdd00']\n",
    "    \n",
    "figure2 = go.Figure([go.Bar(x=pct_chg_names_array, \n",
    "                            y=pct_chg_values_array, \n",
    "                            marker_color=colors)\n",
    "                    ])\n",
    "figure2.update_xaxes(tickangle=45, tickfont=dict(color='black', size=14),tickmode='linear')\n",
    "figure2.update_layout(barmode='group', title_text='Wales Employment Total Change Percentage(%) (2009 to 2018)')\n",
    "figure2.show()\n",
    "\n",
    "#Show annual totals per sector\n",
    "year_totals_array = np.array([])\n",
    "\n",
    "for r in range(1, 11, 1):\n",
    "    year_totals_array = np.append(year_totals_array, (calc_df.iloc[10, r]))    \n",
    "    \n",
    "figure3 = go.Figure([go.Bar(x=years, \n",
    "                            y=year_totals_array, \n",
    "                            marker_color='#9999dd')\n",
    "                    ])\n",
    "figure3.update_xaxes(tickangle=45, tickfont=dict(color='black', size=14),tickmode='linear')\n",
    "figure3.update_layout(barmode='group', title_text='Wales Employment Totals Per Year  (2009 to 2018)')\n",
    "figure3.show()\n",
    "\n",
    "\n",
    "\n"
   ]
  },
  {
   "cell_type": "code",
   "execution_count": 4,
   "metadata": {},
   "outputs": [
    {
     "data": {
      "application/vnd.plotly.v1+json": {
       "config": {
        "plotlyServerURL": "https://plot.ly"
       },
       "data": [
        {
         "hovertemplate": "Industry=Agriculture<br>variable=%{x}<br>value=%{y}<extra></extra>",
         "ids": [
          "Agriculture"
         ],
         "legendgroup": "Agriculture",
         "marker": {
          "color": "#636efa",
          "symbol": "circle"
         },
         "mode": "markers",
         "name": "Agriculture",
         "orientation": "v",
         "showlegend": true,
         "type": "scatter",
         "x": [
          "2009"
         ],
         "xaxis": "x",
         "y": [
          37700
         ],
         "yaxis": "y"
        },
        {
         "hovertemplate": "Industry=Production <br>variable=%{x}<br>value=%{y}<extra></extra>",
         "ids": [
          "Production "
         ],
         "legendgroup": "Production ",
         "marker": {
          "color": "#EF553B",
          "symbol": "circle"
         },
         "mode": "markers",
         "name": "Production ",
         "orientation": "v",
         "showlegend": true,
         "type": "scatter",
         "x": [
          "2009"
         ],
         "xaxis": "x",
         "y": [
          156700
         ],
         "yaxis": "y"
        },
        {
         "hovertemplate": "Industry=Construction <br>variable=%{x}<br>value=%{y}<extra></extra>",
         "ids": [
          "Construction "
         ],
         "legendgroup": "Construction ",
         "marker": {
          "color": "#00cc96",
          "symbol": "circle"
         },
         "mode": "markers",
         "name": "Construction ",
         "orientation": "v",
         "showlegend": true,
         "type": "scatter",
         "x": [
          "2009"
         ],
         "xaxis": "x",
         "y": [
          96600
         ],
         "yaxis": "y"
        },
        {
         "hovertemplate": "Industry=Retail<br>variable=%{x}<br>value=%{y}<extra></extra>",
         "ids": [
          "Retail"
         ],
         "legendgroup": "Retail",
         "marker": {
          "color": "#ab63fa",
          "symbol": "circle"
         },
         "mode": "markers",
         "name": "Retail",
         "orientation": "v",
         "showlegend": true,
         "type": "scatter",
         "x": [
          "2009"
         ],
         "xaxis": "x",
         "y": [
          345400
         ],
         "yaxis": "y"
        },
        {
         "hovertemplate": "Industry=ICT<br>variable=%{x}<br>value=%{y}<extra></extra>",
         "ids": [
          "ICT"
         ],
         "legendgroup": "ICT",
         "marker": {
          "color": "#FFA15A",
          "symbol": "circle"
         },
         "mode": "markers",
         "name": "ICT",
         "orientation": "v",
         "showlegend": true,
         "type": "scatter",
         "x": [
          "2009"
         ],
         "xaxis": "x",
         "y": [
          27800
         ],
         "yaxis": "y"
        },
        {
         "hovertemplate": "Industry=Finance<br>variable=%{x}<br>value=%{y}<extra></extra>",
         "ids": [
          "Finance"
         ],
         "legendgroup": "Finance",
         "marker": {
          "color": "#19d3f3",
          "symbol": "circle"
         },
         "mode": "markers",
         "name": "Finance",
         "orientation": "v",
         "showlegend": true,
         "type": "scatter",
         "x": [
          "2009"
         ],
         "xaxis": "x",
         "y": [
          33800
         ],
         "yaxis": "y"
        },
        {
         "hovertemplate": "Industry=Real_Estate<br>variable=%{x}<br>value=%{y}<extra></extra>",
         "ids": [
          "Real_Estate"
         ],
         "legendgroup": "Real_Estate",
         "marker": {
          "color": "#FF6692",
          "symbol": "circle"
         },
         "mode": "markers",
         "name": "Real_Estate",
         "orientation": "v",
         "showlegend": true,
         "type": "scatter",
         "x": [
          "2009"
         ],
         "xaxis": "x",
         "y": [
          13500
         ],
         "yaxis": "y"
        },
        {
         "hovertemplate": "Industry=Professional_Service<br>variable=%{x}<br>value=%{y}<extra></extra>",
         "ids": [
          "Professional_Service"
         ],
         "legendgroup": "Professional_Service",
         "marker": {
          "color": "#B6E880",
          "symbol": "circle"
         },
         "mode": "markers",
         "name": "Professional_Service",
         "orientation": "v",
         "showlegend": true,
         "type": "scatter",
         "x": [
          "2009"
         ],
         "xaxis": "x",
         "y": [
          144800
         ],
         "yaxis": "y"
        },
        {
         "hovertemplate": "Industry=Public_Administration<br>variable=%{x}<br>value=%{y}<extra></extra>",
         "ids": [
          "Public_Administration"
         ],
         "legendgroup": "Public_Administration",
         "marker": {
          "color": "#FF97FF",
          "symbol": "circle"
         },
         "mode": "markers",
         "name": "Public_Administration",
         "orientation": "v",
         "showlegend": true,
         "type": "scatter",
         "x": [
          "2009"
         ],
         "xaxis": "x",
         "y": [
          415600
         ],
         "yaxis": "y"
        },
        {
         "hovertemplate": "Industry=Other_Service<br>variable=%{x}<br>value=%{y}<extra></extra>",
         "ids": [
          "Other_Service"
         ],
         "legendgroup": "Other_Service",
         "marker": {
          "color": "#FECB52",
          "symbol": "circle"
         },
         "mode": "markers",
         "name": "Other_Service",
         "orientation": "v",
         "showlegend": true,
         "type": "scatter",
         "x": [
          "2009"
         ],
         "xaxis": "x",
         "y": [
          64200
         ],
         "yaxis": "y"
        }
       ],
       "frames": [
        {
         "data": [
          {
           "hovertemplate": "Industry=Agriculture<br>variable=%{x}<br>value=%{y}<extra></extra>",
           "ids": [
            "Agriculture"
           ],
           "legendgroup": "Agriculture",
           "marker": {
            "color": "#636efa",
            "symbol": "circle"
           },
           "mode": "markers",
           "name": "Agriculture",
           "orientation": "v",
           "showlegend": true,
           "type": "scatter",
           "x": [
            "2009"
           ],
           "xaxis": "x",
           "y": [
            37700
           ],
           "yaxis": "y"
          },
          {
           "hovertemplate": "Industry=Production <br>variable=%{x}<br>value=%{y}<extra></extra>",
           "ids": [
            "Production "
           ],
           "legendgroup": "Production ",
           "marker": {
            "color": "#EF553B",
            "symbol": "circle"
           },
           "mode": "markers",
           "name": "Production ",
           "orientation": "v",
           "showlegend": true,
           "type": "scatter",
           "x": [
            "2009"
           ],
           "xaxis": "x",
           "y": [
            156700
           ],
           "yaxis": "y"
          },
          {
           "hovertemplate": "Industry=Construction <br>variable=%{x}<br>value=%{y}<extra></extra>",
           "ids": [
            "Construction "
           ],
           "legendgroup": "Construction ",
           "marker": {
            "color": "#00cc96",
            "symbol": "circle"
           },
           "mode": "markers",
           "name": "Construction ",
           "orientation": "v",
           "showlegend": true,
           "type": "scatter",
           "x": [
            "2009"
           ],
           "xaxis": "x",
           "y": [
            96600
           ],
           "yaxis": "y"
          },
          {
           "hovertemplate": "Industry=Retail<br>variable=%{x}<br>value=%{y}<extra></extra>",
           "ids": [
            "Retail"
           ],
           "legendgroup": "Retail",
           "marker": {
            "color": "#ab63fa",
            "symbol": "circle"
           },
           "mode": "markers",
           "name": "Retail",
           "orientation": "v",
           "showlegend": true,
           "type": "scatter",
           "x": [
            "2009"
           ],
           "xaxis": "x",
           "y": [
            345400
           ],
           "yaxis": "y"
          },
          {
           "hovertemplate": "Industry=ICT<br>variable=%{x}<br>value=%{y}<extra></extra>",
           "ids": [
            "ICT"
           ],
           "legendgroup": "ICT",
           "marker": {
            "color": "#FFA15A",
            "symbol": "circle"
           },
           "mode": "markers",
           "name": "ICT",
           "orientation": "v",
           "showlegend": true,
           "type": "scatter",
           "x": [
            "2009"
           ],
           "xaxis": "x",
           "y": [
            27800
           ],
           "yaxis": "y"
          },
          {
           "hovertemplate": "Industry=Finance<br>variable=%{x}<br>value=%{y}<extra></extra>",
           "ids": [
            "Finance"
           ],
           "legendgroup": "Finance",
           "marker": {
            "color": "#19d3f3",
            "symbol": "circle"
           },
           "mode": "markers",
           "name": "Finance",
           "orientation": "v",
           "showlegend": true,
           "type": "scatter",
           "x": [
            "2009"
           ],
           "xaxis": "x",
           "y": [
            33800
           ],
           "yaxis": "y"
          },
          {
           "hovertemplate": "Industry=Real_Estate<br>variable=%{x}<br>value=%{y}<extra></extra>",
           "ids": [
            "Real_Estate"
           ],
           "legendgroup": "Real_Estate",
           "marker": {
            "color": "#FF6692",
            "symbol": "circle"
           },
           "mode": "markers",
           "name": "Real_Estate",
           "orientation": "v",
           "showlegend": true,
           "type": "scatter",
           "x": [
            "2009"
           ],
           "xaxis": "x",
           "y": [
            13500
           ],
           "yaxis": "y"
          },
          {
           "hovertemplate": "Industry=Professional_Service<br>variable=%{x}<br>value=%{y}<extra></extra>",
           "ids": [
            "Professional_Service"
           ],
           "legendgroup": "Professional_Service",
           "marker": {
            "color": "#B6E880",
            "symbol": "circle"
           },
           "mode": "markers",
           "name": "Professional_Service",
           "orientation": "v",
           "showlegend": true,
           "type": "scatter",
           "x": [
            "2009"
           ],
           "xaxis": "x",
           "y": [
            144800
           ],
           "yaxis": "y"
          },
          {
           "hovertemplate": "Industry=Public_Administration<br>variable=%{x}<br>value=%{y}<extra></extra>",
           "ids": [
            "Public_Administration"
           ],
           "legendgroup": "Public_Administration",
           "marker": {
            "color": "#FF97FF",
            "symbol": "circle"
           },
           "mode": "markers",
           "name": "Public_Administration",
           "orientation": "v",
           "showlegend": true,
           "type": "scatter",
           "x": [
            "2009"
           ],
           "xaxis": "x",
           "y": [
            415600
           ],
           "yaxis": "y"
          },
          {
           "hovertemplate": "Industry=Other_Service<br>variable=%{x}<br>value=%{y}<extra></extra>",
           "ids": [
            "Other_Service"
           ],
           "legendgroup": "Other_Service",
           "marker": {
            "color": "#FECB52",
            "symbol": "circle"
           },
           "mode": "markers",
           "name": "Other_Service",
           "orientation": "v",
           "showlegend": true,
           "type": "scatter",
           "x": [
            "2009"
           ],
           "xaxis": "x",
           "y": [
            64200
           ],
           "yaxis": "y"
          }
         ],
         "name": "2009"
        },
        {
         "data": [
          {
           "hovertemplate": "Industry=Agriculture<br>variable=%{x}<br>value=%{y}<extra></extra>",
           "ids": [
            "Agriculture"
           ],
           "legendgroup": "Agriculture",
           "marker": {
            "color": "#636efa",
            "symbol": "circle"
           },
           "mode": "markers",
           "name": "Agriculture",
           "orientation": "v",
           "showlegend": true,
           "type": "scatter",
           "x": [
            "2010"
           ],
           "xaxis": "x",
           "y": [
            38200
           ],
           "yaxis": "y"
          },
          {
           "hovertemplate": "Industry=Production <br>variable=%{x}<br>value=%{y}<extra></extra>",
           "ids": [
            "Production "
           ],
           "legendgroup": "Production ",
           "marker": {
            "color": "#EF553B",
            "symbol": "circle"
           },
           "mode": "markers",
           "name": "Production ",
           "orientation": "v",
           "showlegend": true,
           "type": "scatter",
           "x": [
            "2010"
           ],
           "xaxis": "x",
           "y": [
            149800
           ],
           "yaxis": "y"
          },
          {
           "hovertemplate": "Industry=Construction <br>variable=%{x}<br>value=%{y}<extra></extra>",
           "ids": [
            "Construction "
           ],
           "legendgroup": "Construction ",
           "marker": {
            "color": "#00cc96",
            "symbol": "circle"
           },
           "mode": "markers",
           "name": "Construction ",
           "orientation": "v",
           "showlegend": true,
           "type": "scatter",
           "x": [
            "2010"
           ],
           "xaxis": "x",
           "y": [
            93200
           ],
           "yaxis": "y"
          },
          {
           "hovertemplate": "Industry=Retail<br>variable=%{x}<br>value=%{y}<extra></extra>",
           "ids": [
            "Retail"
           ],
           "legendgroup": "Retail",
           "marker": {
            "color": "#ab63fa",
            "symbol": "circle"
           },
           "mode": "markers",
           "name": "Retail",
           "orientation": "v",
           "showlegend": true,
           "type": "scatter",
           "x": [
            "2010"
           ],
           "xaxis": "x",
           "y": [
            344500
           ],
           "yaxis": "y"
          },
          {
           "hovertemplate": "Industry=ICT<br>variable=%{x}<br>value=%{y}<extra></extra>",
           "ids": [
            "ICT"
           ],
           "legendgroup": "ICT",
           "marker": {
            "color": "#FFA15A",
            "symbol": "circle"
           },
           "mode": "markers",
           "name": "ICT",
           "orientation": "v",
           "showlegend": true,
           "type": "scatter",
           "x": [
            "2010"
           ],
           "xaxis": "x",
           "y": [
            27900
           ],
           "yaxis": "y"
          },
          {
           "hovertemplate": "Industry=Finance<br>variable=%{x}<br>value=%{y}<extra></extra>",
           "ids": [
            "Finance"
           ],
           "legendgroup": "Finance",
           "marker": {
            "color": "#19d3f3",
            "symbol": "circle"
           },
           "mode": "markers",
           "name": "Finance",
           "orientation": "v",
           "showlegend": true,
           "type": "scatter",
           "x": [
            "2010"
           ],
           "xaxis": "x",
           "y": [
            29800
           ],
           "yaxis": "y"
          },
          {
           "hovertemplate": "Industry=Real_Estate<br>variable=%{x}<br>value=%{y}<extra></extra>",
           "ids": [
            "Real_Estate"
           ],
           "legendgroup": "Real_Estate",
           "marker": {
            "color": "#FF6692",
            "symbol": "circle"
           },
           "mode": "markers",
           "name": "Real_Estate",
           "orientation": "v",
           "showlegend": true,
           "type": "scatter",
           "x": [
            "2010"
           ],
           "xaxis": "x",
           "y": [
            14600
           ],
           "yaxis": "y"
          },
          {
           "hovertemplate": "Industry=Professional_Service<br>variable=%{x}<br>value=%{y}<extra></extra>",
           "ids": [
            "Professional_Service"
           ],
           "legendgroup": "Professional_Service",
           "marker": {
            "color": "#B6E880",
            "symbol": "circle"
           },
           "mode": "markers",
           "name": "Professional_Service",
           "orientation": "v",
           "showlegend": true,
           "type": "scatter",
           "x": [
            "2010"
           ],
           "xaxis": "x",
           "y": [
            145800
           ],
           "yaxis": "y"
          },
          {
           "hovertemplate": "Industry=Public_Administration<br>variable=%{x}<br>value=%{y}<extra></extra>",
           "ids": [
            "Public_Administration"
           ],
           "legendgroup": "Public_Administration",
           "marker": {
            "color": "#FF97FF",
            "symbol": "circle"
           },
           "mode": "markers",
           "name": "Public_Administration",
           "orientation": "v",
           "showlegend": true,
           "type": "scatter",
           "x": [
            "2010"
           ],
           "xaxis": "x",
           "y": [
            418600
           ],
           "yaxis": "y"
          },
          {
           "hovertemplate": "Industry=Other_Service<br>variable=%{x}<br>value=%{y}<extra></extra>",
           "ids": [
            "Other_Service"
           ],
           "legendgroup": "Other_Service",
           "marker": {
            "color": "#FECB52",
            "symbol": "circle"
           },
           "mode": "markers",
           "name": "Other_Service",
           "orientation": "v",
           "showlegend": true,
           "type": "scatter",
           "x": [
            "2010"
           ],
           "xaxis": "x",
           "y": [
            68000
           ],
           "yaxis": "y"
          }
         ],
         "name": "2010"
        },
        {
         "data": [
          {
           "hovertemplate": "Industry=Agriculture<br>variable=%{x}<br>value=%{y}<extra></extra>",
           "ids": [
            "Agriculture"
           ],
           "legendgroup": "Agriculture",
           "marker": {
            "color": "#636efa",
            "symbol": "circle"
           },
           "mode": "markers",
           "name": "Agriculture",
           "orientation": "v",
           "showlegend": true,
           "type": "scatter",
           "x": [
            "2011"
           ],
           "xaxis": "x",
           "y": [
            36100
           ],
           "yaxis": "y"
          },
          {
           "hovertemplate": "Industry=Production <br>variable=%{x}<br>value=%{y}<extra></extra>",
           "ids": [
            "Production "
           ],
           "legendgroup": "Production ",
           "marker": {
            "color": "#EF553B",
            "symbol": "circle"
           },
           "mode": "markers",
           "name": "Production ",
           "orientation": "v",
           "showlegend": true,
           "type": "scatter",
           "x": [
            "2011"
           ],
           "xaxis": "x",
           "y": [
            158600
           ],
           "yaxis": "y"
          },
          {
           "hovertemplate": "Industry=Construction <br>variable=%{x}<br>value=%{y}<extra></extra>",
           "ids": [
            "Construction "
           ],
           "legendgroup": "Construction ",
           "marker": {
            "color": "#00cc96",
            "symbol": "circle"
           },
           "mode": "markers",
           "name": "Construction ",
           "orientation": "v",
           "showlegend": true,
           "type": "scatter",
           "x": [
            "2011"
           ],
           "xaxis": "x",
           "y": [
            90000
           ],
           "yaxis": "y"
          },
          {
           "hovertemplate": "Industry=Retail<br>variable=%{x}<br>value=%{y}<extra></extra>",
           "ids": [
            "Retail"
           ],
           "legendgroup": "Retail",
           "marker": {
            "color": "#ab63fa",
            "symbol": "circle"
           },
           "mode": "markers",
           "name": "Retail",
           "orientation": "v",
           "showlegend": true,
           "type": "scatter",
           "x": [
            "2011"
           ],
           "xaxis": "x",
           "y": [
            343100
           ],
           "yaxis": "y"
          },
          {
           "hovertemplate": "Industry=ICT<br>variable=%{x}<br>value=%{y}<extra></extra>",
           "ids": [
            "ICT"
           ],
           "legendgroup": "ICT",
           "marker": {
            "color": "#FFA15A",
            "symbol": "circle"
           },
           "mode": "markers",
           "name": "ICT",
           "orientation": "v",
           "showlegend": true,
           "type": "scatter",
           "x": [
            "2011"
           ],
           "xaxis": "x",
           "y": [
            26400
           ],
           "yaxis": "y"
          },
          {
           "hovertemplate": "Industry=Finance<br>variable=%{x}<br>value=%{y}<extra></extra>",
           "ids": [
            "Finance"
           ],
           "legendgroup": "Finance",
           "marker": {
            "color": "#19d3f3",
            "symbol": "circle"
           },
           "mode": "markers",
           "name": "Finance",
           "orientation": "v",
           "showlegend": true,
           "type": "scatter",
           "x": [
            "2011"
           ],
           "xaxis": "x",
           "y": [
            33200
           ],
           "yaxis": "y"
          },
          {
           "hovertemplate": "Industry=Real_Estate<br>variable=%{x}<br>value=%{y}<extra></extra>",
           "ids": [
            "Real_Estate"
           ],
           "legendgroup": "Real_Estate",
           "marker": {
            "color": "#FF6692",
            "symbol": "circle"
           },
           "mode": "markers",
           "name": "Real_Estate",
           "orientation": "v",
           "showlegend": true,
           "type": "scatter",
           "x": [
            "2011"
           ],
           "xaxis": "x",
           "y": [
            17600
           ],
           "yaxis": "y"
          },
          {
           "hovertemplate": "Industry=Professional_Service<br>variable=%{x}<br>value=%{y}<extra></extra>",
           "ids": [
            "Professional_Service"
           ],
           "legendgroup": "Professional_Service",
           "marker": {
            "color": "#B6E880",
            "symbol": "circle"
           },
           "mode": "markers",
           "name": "Professional_Service",
           "orientation": "v",
           "showlegend": true,
           "type": "scatter",
           "x": [
            "2011"
           ],
           "xaxis": "x",
           "y": [
            143600
           ],
           "yaxis": "y"
          },
          {
           "hovertemplate": "Industry=Public_Administration<br>variable=%{x}<br>value=%{y}<extra></extra>",
           "ids": [
            "Public_Administration"
           ],
           "legendgroup": "Public_Administration",
           "marker": {
            "color": "#FF97FF",
            "symbol": "circle"
           },
           "mode": "markers",
           "name": "Public_Administration",
           "orientation": "v",
           "showlegend": true,
           "type": "scatter",
           "x": [
            "2011"
           ],
           "xaxis": "x",
           "y": [
            425600
           ],
           "yaxis": "y"
          },
          {
           "hovertemplate": "Industry=Other_Service<br>variable=%{x}<br>value=%{y}<extra></extra>",
           "ids": [
            "Other_Service"
           ],
           "legendgroup": "Other_Service",
           "marker": {
            "color": "#FECB52",
            "symbol": "circle"
           },
           "mode": "markers",
           "name": "Other_Service",
           "orientation": "v",
           "showlegend": true,
           "type": "scatter",
           "x": [
            "2011"
           ],
           "xaxis": "x",
           "y": [
            72400
           ],
           "yaxis": "y"
          }
         ],
         "name": "2011"
        },
        {
         "data": [
          {
           "hovertemplate": "Industry=Agriculture<br>variable=%{x}<br>value=%{y}<extra></extra>",
           "ids": [
            "Agriculture"
           ],
           "legendgroup": "Agriculture",
           "marker": {
            "color": "#636efa",
            "symbol": "circle"
           },
           "mode": "markers",
           "name": "Agriculture",
           "orientation": "v",
           "showlegend": true,
           "type": "scatter",
           "x": [
            "2012"
           ],
           "xaxis": "x",
           "y": [
            36100
           ],
           "yaxis": "y"
          },
          {
           "hovertemplate": "Industry=Production <br>variable=%{x}<br>value=%{y}<extra></extra>",
           "ids": [
            "Production "
           ],
           "legendgroup": "Production ",
           "marker": {
            "color": "#EF553B",
            "symbol": "circle"
           },
           "mode": "markers",
           "name": "Production ",
           "orientation": "v",
           "showlegend": true,
           "type": "scatter",
           "x": [
            "2012"
           ],
           "xaxis": "x",
           "y": [
            154400
           ],
           "yaxis": "y"
          },
          {
           "hovertemplate": "Industry=Construction <br>variable=%{x}<br>value=%{y}<extra></extra>",
           "ids": [
            "Construction "
           ],
           "legendgroup": "Construction ",
           "marker": {
            "color": "#00cc96",
            "symbol": "circle"
           },
           "mode": "markers",
           "name": "Construction ",
           "orientation": "v",
           "showlegend": true,
           "type": "scatter",
           "x": [
            "2012"
           ],
           "xaxis": "x",
           "y": [
            91300
           ],
           "yaxis": "y"
          },
          {
           "hovertemplate": "Industry=Retail<br>variable=%{x}<br>value=%{y}<extra></extra>",
           "ids": [
            "Retail"
           ],
           "legendgroup": "Retail",
           "marker": {
            "color": "#ab63fa",
            "symbol": "circle"
           },
           "mode": "markers",
           "name": "Retail",
           "orientation": "v",
           "showlegend": true,
           "type": "scatter",
           "x": [
            "2012"
           ],
           "xaxis": "x",
           "y": [
            347300
           ],
           "yaxis": "y"
          },
          {
           "hovertemplate": "Industry=ICT<br>variable=%{x}<br>value=%{y}<extra></extra>",
           "ids": [
            "ICT"
           ],
           "legendgroup": "ICT",
           "marker": {
            "color": "#FFA15A",
            "symbol": "circle"
           },
           "mode": "markers",
           "name": "ICT",
           "orientation": "v",
           "showlegend": true,
           "type": "scatter",
           "x": [
            "2012"
           ],
           "xaxis": "x",
           "y": [
            27200
           ],
           "yaxis": "y"
          },
          {
           "hovertemplate": "Industry=Finance<br>variable=%{x}<br>value=%{y}<extra></extra>",
           "ids": [
            "Finance"
           ],
           "legendgroup": "Finance",
           "marker": {
            "color": "#19d3f3",
            "symbol": "circle"
           },
           "mode": "markers",
           "name": "Finance",
           "orientation": "v",
           "showlegend": true,
           "type": "scatter",
           "x": [
            "2012"
           ],
           "xaxis": "x",
           "y": [
            31100
           ],
           "yaxis": "y"
          },
          {
           "hovertemplate": "Industry=Real_Estate<br>variable=%{x}<br>value=%{y}<extra></extra>",
           "ids": [
            "Real_Estate"
           ],
           "legendgroup": "Real_Estate",
           "marker": {
            "color": "#FF6692",
            "symbol": "circle"
           },
           "mode": "markers",
           "name": "Real_Estate",
           "orientation": "v",
           "showlegend": true,
           "type": "scatter",
           "x": [
            "2012"
           ],
           "xaxis": "x",
           "y": [
            18800
           ],
           "yaxis": "y"
          },
          {
           "hovertemplate": "Industry=Professional_Service<br>variable=%{x}<br>value=%{y}<extra></extra>",
           "ids": [
            "Professional_Service"
           ],
           "legendgroup": "Professional_Service",
           "marker": {
            "color": "#B6E880",
            "symbol": "circle"
           },
           "mode": "markers",
           "name": "Professional_Service",
           "orientation": "v",
           "showlegend": true,
           "type": "scatter",
           "x": [
            "2012"
           ],
           "xaxis": "x",
           "y": [
            137300
           ],
           "yaxis": "y"
          },
          {
           "hovertemplate": "Industry=Public_Administration<br>variable=%{x}<br>value=%{y}<extra></extra>",
           "ids": [
            "Public_Administration"
           ],
           "legendgroup": "Public_Administration",
           "marker": {
            "color": "#FF97FF",
            "symbol": "circle"
           },
           "mode": "markers",
           "name": "Public_Administration",
           "orientation": "v",
           "showlegend": true,
           "type": "scatter",
           "x": [
            "2012"
           ],
           "xaxis": "x",
           "y": [
            421000
           ],
           "yaxis": "y"
          },
          {
           "hovertemplate": "Industry=Other_Service<br>variable=%{x}<br>value=%{y}<extra></extra>",
           "ids": [
            "Other_Service"
           ],
           "legendgroup": "Other_Service",
           "marker": {
            "color": "#FECB52",
            "symbol": "circle"
           },
           "mode": "markers",
           "name": "Other_Service",
           "orientation": "v",
           "showlegend": true,
           "type": "scatter",
           "x": [
            "2012"
           ],
           "xaxis": "x",
           "y": [
            72800
           ],
           "yaxis": "y"
          }
         ],
         "name": "2012"
        },
        {
         "data": [
          {
           "hovertemplate": "Industry=Agriculture<br>variable=%{x}<br>value=%{y}<extra></extra>",
           "ids": [
            "Agriculture"
           ],
           "legendgroup": "Agriculture",
           "marker": {
            "color": "#636efa",
            "symbol": "circle"
           },
           "mode": "markers",
           "name": "Agriculture",
           "orientation": "v",
           "showlegend": true,
           "type": "scatter",
           "x": [
            "2013"
           ],
           "xaxis": "x",
           "y": [
            36800
           ],
           "yaxis": "y"
          },
          {
           "hovertemplate": "Industry=Production <br>variable=%{x}<br>value=%{y}<extra></extra>",
           "ids": [
            "Production "
           ],
           "legendgroup": "Production ",
           "marker": {
            "color": "#EF553B",
            "symbol": "circle"
           },
           "mode": "markers",
           "name": "Production ",
           "orientation": "v",
           "showlegend": true,
           "type": "scatter",
           "x": [
            "2013"
           ],
           "xaxis": "x",
           "y": [
            164200
           ],
           "yaxis": "y"
          },
          {
           "hovertemplate": "Industry=Construction <br>variable=%{x}<br>value=%{y}<extra></extra>",
           "ids": [
            "Construction "
           ],
           "legendgroup": "Construction ",
           "marker": {
            "color": "#00cc96",
            "symbol": "circle"
           },
           "mode": "markers",
           "name": "Construction ",
           "orientation": "v",
           "showlegend": true,
           "type": "scatter",
           "x": [
            "2013"
           ],
           "xaxis": "x",
           "y": [
            89300
           ],
           "yaxis": "y"
          },
          {
           "hovertemplate": "Industry=Retail<br>variable=%{x}<br>value=%{y}<extra></extra>",
           "ids": [
            "Retail"
           ],
           "legendgroup": "Retail",
           "marker": {
            "color": "#ab63fa",
            "symbol": "circle"
           },
           "mode": "markers",
           "name": "Retail",
           "orientation": "v",
           "showlegend": true,
           "type": "scatter",
           "x": [
            "2013"
           ],
           "xaxis": "x",
           "y": [
            345100
           ],
           "yaxis": "y"
          },
          {
           "hovertemplate": "Industry=ICT<br>variable=%{x}<br>value=%{y}<extra></extra>",
           "ids": [
            "ICT"
           ],
           "legendgroup": "ICT",
           "marker": {
            "color": "#FFA15A",
            "symbol": "circle"
           },
           "mode": "markers",
           "name": "ICT",
           "orientation": "v",
           "showlegend": true,
           "type": "scatter",
           "x": [
            "2013"
           ],
           "xaxis": "x",
           "y": [
            26900
           ],
           "yaxis": "y"
          },
          {
           "hovertemplate": "Industry=Finance<br>variable=%{x}<br>value=%{y}<extra></extra>",
           "ids": [
            "Finance"
           ],
           "legendgroup": "Finance",
           "marker": {
            "color": "#19d3f3",
            "symbol": "circle"
           },
           "mode": "markers",
           "name": "Finance",
           "orientation": "v",
           "showlegend": true,
           "type": "scatter",
           "x": [
            "2013"
           ],
           "xaxis": "x",
           "y": [
            32400
           ],
           "yaxis": "y"
          },
          {
           "hovertemplate": "Industry=Real_Estate<br>variable=%{x}<br>value=%{y}<extra></extra>",
           "ids": [
            "Real_Estate"
           ],
           "legendgroup": "Real_Estate",
           "marker": {
            "color": "#FF6692",
            "symbol": "circle"
           },
           "mode": "markers",
           "name": "Real_Estate",
           "orientation": "v",
           "showlegend": true,
           "type": "scatter",
           "x": [
            "2013"
           ],
           "xaxis": "x",
           "y": [
            18000
           ],
           "yaxis": "y"
          },
          {
           "hovertemplate": "Industry=Professional_Service<br>variable=%{x}<br>value=%{y}<extra></extra>",
           "ids": [
            "Professional_Service"
           ],
           "legendgroup": "Professional_Service",
           "marker": {
            "color": "#B6E880",
            "symbol": "circle"
           },
           "mode": "markers",
           "name": "Professional_Service",
           "orientation": "v",
           "showlegend": true,
           "type": "scatter",
           "x": [
            "2013"
           ],
           "xaxis": "x",
           "y": [
            149900
           ],
           "yaxis": "y"
          },
          {
           "hovertemplate": "Industry=Public_Administration<br>variable=%{x}<br>value=%{y}<extra></extra>",
           "ids": [
            "Public_Administration"
           ],
           "legendgroup": "Public_Administration",
           "marker": {
            "color": "#FF97FF",
            "symbol": "circle"
           },
           "mode": "markers",
           "name": "Public_Administration",
           "orientation": "v",
           "showlegend": true,
           "type": "scatter",
           "x": [
            "2013"
           ],
           "xaxis": "x",
           "y": [
            427000
           ],
           "yaxis": "y"
          },
          {
           "hovertemplate": "Industry=Other_Service<br>variable=%{x}<br>value=%{y}<extra></extra>",
           "ids": [
            "Other_Service"
           ],
           "legendgroup": "Other_Service",
           "marker": {
            "color": "#FECB52",
            "symbol": "circle"
           },
           "mode": "markers",
           "name": "Other_Service",
           "orientation": "v",
           "showlegend": true,
           "type": "scatter",
           "x": [
            "2013"
           ],
           "xaxis": "x",
           "y": [
            75500
           ],
           "yaxis": "y"
          }
         ],
         "name": "2013"
        },
        {
         "data": [
          {
           "hovertemplate": "Industry=Agriculture<br>variable=%{x}<br>value=%{y}<extra></extra>",
           "ids": [
            "Agriculture"
           ],
           "legendgroup": "Agriculture",
           "marker": {
            "color": "#636efa",
            "symbol": "circle"
           },
           "mode": "markers",
           "name": "Agriculture",
           "orientation": "v",
           "showlegend": true,
           "type": "scatter",
           "x": [
            "2014"
           ],
           "xaxis": "x",
           "y": [
            42700
           ],
           "yaxis": "y"
          },
          {
           "hovertemplate": "Industry=Production <br>variable=%{x}<br>value=%{y}<extra></extra>",
           "ids": [
            "Production "
           ],
           "legendgroup": "Production ",
           "marker": {
            "color": "#EF553B",
            "symbol": "circle"
           },
           "mode": "markers",
           "name": "Production ",
           "orientation": "v",
           "showlegend": true,
           "type": "scatter",
           "x": [
            "2014"
           ],
           "xaxis": "x",
           "y": [
            173300
           ],
           "yaxis": "y"
          },
          {
           "hovertemplate": "Industry=Construction <br>variable=%{x}<br>value=%{y}<extra></extra>",
           "ids": [
            "Construction "
           ],
           "legendgroup": "Construction ",
           "marker": {
            "color": "#00cc96",
            "symbol": "circle"
           },
           "mode": "markers",
           "name": "Construction ",
           "orientation": "v",
           "showlegend": true,
           "type": "scatter",
           "x": [
            "2014"
           ],
           "xaxis": "x",
           "y": [
            97000
           ],
           "yaxis": "y"
          },
          {
           "hovertemplate": "Industry=Retail<br>variable=%{x}<br>value=%{y}<extra></extra>",
           "ids": [
            "Retail"
           ],
           "legendgroup": "Retail",
           "marker": {
            "color": "#ab63fa",
            "symbol": "circle"
           },
           "mode": "markers",
           "name": "Retail",
           "orientation": "v",
           "showlegend": true,
           "type": "scatter",
           "x": [
            "2014"
           ],
           "xaxis": "x",
           "y": [
            337300
           ],
           "yaxis": "y"
          },
          {
           "hovertemplate": "Industry=ICT<br>variable=%{x}<br>value=%{y}<extra></extra>",
           "ids": [
            "ICT"
           ],
           "legendgroup": "ICT",
           "marker": {
            "color": "#FFA15A",
            "symbol": "circle"
           },
           "mode": "markers",
           "name": "ICT",
           "orientation": "v",
           "showlegend": true,
           "type": "scatter",
           "x": [
            "2014"
           ],
           "xaxis": "x",
           "y": [
            35700
           ],
           "yaxis": "y"
          },
          {
           "hovertemplate": "Industry=Finance<br>variable=%{x}<br>value=%{y}<extra></extra>",
           "ids": [
            "Finance"
           ],
           "legendgroup": "Finance",
           "marker": {
            "color": "#19d3f3",
            "symbol": "circle"
           },
           "mode": "markers",
           "name": "Finance",
           "orientation": "v",
           "showlegend": true,
           "type": "scatter",
           "x": [
            "2014"
           ],
           "xaxis": "x",
           "y": [
            32400
           ],
           "yaxis": "y"
          },
          {
           "hovertemplate": "Industry=Real_Estate<br>variable=%{x}<br>value=%{y}<extra></extra>",
           "ids": [
            "Real_Estate"
           ],
           "legendgroup": "Real_Estate",
           "marker": {
            "color": "#FF6692",
            "symbol": "circle"
           },
           "mode": "markers",
           "name": "Real_Estate",
           "orientation": "v",
           "showlegend": true,
           "type": "scatter",
           "x": [
            "2014"
           ],
           "xaxis": "x",
           "y": [
            22200
           ],
           "yaxis": "y"
          },
          {
           "hovertemplate": "Industry=Professional_Service<br>variable=%{x}<br>value=%{y}<extra></extra>",
           "ids": [
            "Professional_Service"
           ],
           "legendgroup": "Professional_Service",
           "marker": {
            "color": "#B6E880",
            "symbol": "circle"
           },
           "mode": "markers",
           "name": "Professional_Service",
           "orientation": "v",
           "showlegend": true,
           "type": "scatter",
           "x": [
            "2014"
           ],
           "xaxis": "x",
           "y": [
            152900
           ],
           "yaxis": "y"
          },
          {
           "hovertemplate": "Industry=Public_Administration<br>variable=%{x}<br>value=%{y}<extra></extra>",
           "ids": [
            "Public_Administration"
           ],
           "legendgroup": "Public_Administration",
           "marker": {
            "color": "#FF97FF",
            "symbol": "circle"
           },
           "mode": "markers",
           "name": "Public_Administration",
           "orientation": "v",
           "showlegend": true,
           "type": "scatter",
           "x": [
            "2014"
           ],
           "xaxis": "x",
           "y": [
            427600
           ],
           "yaxis": "y"
          },
          {
           "hovertemplate": "Industry=Other_Service<br>variable=%{x}<br>value=%{y}<extra></extra>",
           "ids": [
            "Other_Service"
           ],
           "legendgroup": "Other_Service",
           "marker": {
            "color": "#FECB52",
            "symbol": "circle"
           },
           "mode": "markers",
           "name": "Other_Service",
           "orientation": "v",
           "showlegend": true,
           "type": "scatter",
           "x": [
            "2014"
           ],
           "xaxis": "x",
           "y": [
            73300
           ],
           "yaxis": "y"
          }
         ],
         "name": "2014"
        },
        {
         "data": [
          {
           "hovertemplate": "Industry=Agriculture<br>variable=%{x}<br>value=%{y}<extra></extra>",
           "ids": [
            "Agriculture"
           ],
           "legendgroup": "Agriculture",
           "marker": {
            "color": "#636efa",
            "symbol": "circle"
           },
           "mode": "markers",
           "name": "Agriculture",
           "orientation": "v",
           "showlegend": true,
           "type": "scatter",
           "x": [
            "2015"
           ],
           "xaxis": "x",
           "y": [
            40700
           ],
           "yaxis": "y"
          },
          {
           "hovertemplate": "Industry=Production <br>variable=%{x}<br>value=%{y}<extra></extra>",
           "ids": [
            "Production "
           ],
           "legendgroup": "Production ",
           "marker": {
            "color": "#EF553B",
            "symbol": "circle"
           },
           "mode": "markers",
           "name": "Production ",
           "orientation": "v",
           "showlegend": true,
           "type": "scatter",
           "x": [
            "2015"
           ],
           "xaxis": "x",
           "y": [
            172300
           ],
           "yaxis": "y"
          },
          {
           "hovertemplate": "Industry=Construction <br>variable=%{x}<br>value=%{y}<extra></extra>",
           "ids": [
            "Construction "
           ],
           "legendgroup": "Construction ",
           "marker": {
            "color": "#00cc96",
            "symbol": "circle"
           },
           "mode": "markers",
           "name": "Construction ",
           "orientation": "v",
           "showlegend": true,
           "type": "scatter",
           "x": [
            "2015"
           ],
           "xaxis": "x",
           "y": [
            92600
           ],
           "yaxis": "y"
          },
          {
           "hovertemplate": "Industry=Retail<br>variable=%{x}<br>value=%{y}<extra></extra>",
           "ids": [
            "Retail"
           ],
           "legendgroup": "Retail",
           "marker": {
            "color": "#ab63fa",
            "symbol": "circle"
           },
           "mode": "markers",
           "name": "Retail",
           "orientation": "v",
           "showlegend": true,
           "type": "scatter",
           "x": [
            "2015"
           ],
           "xaxis": "x",
           "y": [
            357700
           ],
           "yaxis": "y"
          },
          {
           "hovertemplate": "Industry=ICT<br>variable=%{x}<br>value=%{y}<extra></extra>",
           "ids": [
            "ICT"
           ],
           "legendgroup": "ICT",
           "marker": {
            "color": "#FFA15A",
            "symbol": "circle"
           },
           "mode": "markers",
           "name": "ICT",
           "orientation": "v",
           "showlegend": true,
           "type": "scatter",
           "x": [
            "2015"
           ],
           "xaxis": "x",
           "y": [
            24000
           ],
           "yaxis": "y"
          },
          {
           "hovertemplate": "Industry=Finance<br>variable=%{x}<br>value=%{y}<extra></extra>",
           "ids": [
            "Finance"
           ],
           "legendgroup": "Finance",
           "marker": {
            "color": "#19d3f3",
            "symbol": "circle"
           },
           "mode": "markers",
           "name": "Finance",
           "orientation": "v",
           "showlegend": true,
           "type": "scatter",
           "x": [
            "2015"
           ],
           "xaxis": "x",
           "y": [
            30800
           ],
           "yaxis": "y"
          },
          {
           "hovertemplate": "Industry=Real_Estate<br>variable=%{x}<br>value=%{y}<extra></extra>",
           "ids": [
            "Real_Estate"
           ],
           "legendgroup": "Real_Estate",
           "marker": {
            "color": "#FF6692",
            "symbol": "circle"
           },
           "mode": "markers",
           "name": "Real_Estate",
           "orientation": "v",
           "showlegend": true,
           "type": "scatter",
           "x": [
            "2015"
           ],
           "xaxis": "x",
           "y": [
            19100
           ],
           "yaxis": "y"
          },
          {
           "hovertemplate": "Industry=Professional_Service<br>variable=%{x}<br>value=%{y}<extra></extra>",
           "ids": [
            "Professional_Service"
           ],
           "legendgroup": "Professional_Service",
           "marker": {
            "color": "#B6E880",
            "symbol": "circle"
           },
           "mode": "markers",
           "name": "Professional_Service",
           "orientation": "v",
           "showlegend": true,
           "type": "scatter",
           "x": [
            "2015"
           ],
           "xaxis": "x",
           "y": [
            166200
           ],
           "yaxis": "y"
          },
          {
           "hovertemplate": "Industry=Public_Administration<br>variable=%{x}<br>value=%{y}<extra></extra>",
           "ids": [
            "Public_Administration"
           ],
           "legendgroup": "Public_Administration",
           "marker": {
            "color": "#FF97FF",
            "symbol": "circle"
           },
           "mode": "markers",
           "name": "Public_Administration",
           "orientation": "v",
           "showlegend": true,
           "type": "scatter",
           "x": [
            "2015"
           ],
           "xaxis": "x",
           "y": [
            423200
           ],
           "yaxis": "y"
          },
          {
           "hovertemplate": "Industry=Other_Service<br>variable=%{x}<br>value=%{y}<extra></extra>",
           "ids": [
            "Other_Service"
           ],
           "legendgroup": "Other_Service",
           "marker": {
            "color": "#FECB52",
            "symbol": "circle"
           },
           "mode": "markers",
           "name": "Other_Service",
           "orientation": "v",
           "showlegend": true,
           "type": "scatter",
           "x": [
            "2015"
           ],
           "xaxis": "x",
           "y": [
            77200
           ],
           "yaxis": "y"
          }
         ],
         "name": "2015"
        },
        {
         "data": [
          {
           "hovertemplate": "Industry=Agriculture<br>variable=%{x}<br>value=%{y}<extra></extra>",
           "ids": [
            "Agriculture"
           ],
           "legendgroup": "Agriculture",
           "marker": {
            "color": "#636efa",
            "symbol": "circle"
           },
           "mode": "markers",
           "name": "Agriculture",
           "orientation": "v",
           "showlegend": true,
           "type": "scatter",
           "x": [
            "2016"
           ],
           "xaxis": "x",
           "y": [
            43200
           ],
           "yaxis": "y"
          },
          {
           "hovertemplate": "Industry=Production <br>variable=%{x}<br>value=%{y}<extra></extra>",
           "ids": [
            "Production "
           ],
           "legendgroup": "Production ",
           "marker": {
            "color": "#EF553B",
            "symbol": "circle"
           },
           "mode": "markers",
           "name": "Production ",
           "orientation": "v",
           "showlegend": true,
           "type": "scatter",
           "x": [
            "2016"
           ],
           "xaxis": "x",
           "y": [
            162500
           ],
           "yaxis": "y"
          },
          {
           "hovertemplate": "Industry=Construction <br>variable=%{x}<br>value=%{y}<extra></extra>",
           "ids": [
            "Construction "
           ],
           "legendgroup": "Construction ",
           "marker": {
            "color": "#00cc96",
            "symbol": "circle"
           },
           "mode": "markers",
           "name": "Construction ",
           "orientation": "v",
           "showlegend": true,
           "type": "scatter",
           "x": [
            "2016"
           ],
           "xaxis": "x",
           "y": [
            102700
           ],
           "yaxis": "y"
          },
          {
           "hovertemplate": "Industry=Retail<br>variable=%{x}<br>value=%{y}<extra></extra>",
           "ids": [
            "Retail"
           ],
           "legendgroup": "Retail",
           "marker": {
            "color": "#ab63fa",
            "symbol": "circle"
           },
           "mode": "markers",
           "name": "Retail",
           "orientation": "v",
           "showlegend": true,
           "type": "scatter",
           "x": [
            "2016"
           ],
           "xaxis": "x",
           "y": [
            360200
           ],
           "yaxis": "y"
          },
          {
           "hovertemplate": "Industry=ICT<br>variable=%{x}<br>value=%{y}<extra></extra>",
           "ids": [
            "ICT"
           ],
           "legendgroup": "ICT",
           "marker": {
            "color": "#FFA15A",
            "symbol": "circle"
           },
           "mode": "markers",
           "name": "ICT",
           "orientation": "v",
           "showlegend": true,
           "type": "scatter",
           "x": [
            "2016"
           ],
           "xaxis": "x",
           "y": [
            34400
           ],
           "yaxis": "y"
          },
          {
           "hovertemplate": "Industry=Finance<br>variable=%{x}<br>value=%{y}<extra></extra>",
           "ids": [
            "Finance"
           ],
           "legendgroup": "Finance",
           "marker": {
            "color": "#19d3f3",
            "symbol": "circle"
           },
           "mode": "markers",
           "name": "Finance",
           "orientation": "v",
           "showlegend": true,
           "type": "scatter",
           "x": [
            "2016"
           ],
           "xaxis": "x",
           "y": [
            31000
           ],
           "yaxis": "y"
          },
          {
           "hovertemplate": "Industry=Real_Estate<br>variable=%{x}<br>value=%{y}<extra></extra>",
           "ids": [
            "Real_Estate"
           ],
           "legendgroup": "Real_Estate",
           "marker": {
            "color": "#FF6692",
            "symbol": "circle"
           },
           "mode": "markers",
           "name": "Real_Estate",
           "orientation": "v",
           "showlegend": true,
           "type": "scatter",
           "x": [
            "2016"
           ],
           "xaxis": "x",
           "y": [
            22700
           ],
           "yaxis": "y"
          },
          {
           "hovertemplate": "Industry=Professional_Service<br>variable=%{x}<br>value=%{y}<extra></extra>",
           "ids": [
            "Professional_Service"
           ],
           "legendgroup": "Professional_Service",
           "marker": {
            "color": "#B6E880",
            "symbol": "circle"
           },
           "mode": "markers",
           "name": "Professional_Service",
           "orientation": "v",
           "showlegend": true,
           "type": "scatter",
           "x": [
            "2016"
           ],
           "xaxis": "x",
           "y": [
            161200
           ],
           "yaxis": "y"
          },
          {
           "hovertemplate": "Industry=Public_Administration<br>variable=%{x}<br>value=%{y}<extra></extra>",
           "ids": [
            "Public_Administration"
           ],
           "legendgroup": "Public_Administration",
           "marker": {
            "color": "#FF97FF",
            "symbol": "circle"
           },
           "mode": "markers",
           "name": "Public_Administration",
           "orientation": "v",
           "showlegend": true,
           "type": "scatter",
           "x": [
            "2016"
           ],
           "xaxis": "x",
           "y": [
            418500
           ],
           "yaxis": "y"
          },
          {
           "hovertemplate": "Industry=Other_Service<br>variable=%{x}<br>value=%{y}<extra></extra>",
           "ids": [
            "Other_Service"
           ],
           "legendgroup": "Other_Service",
           "marker": {
            "color": "#FECB52",
            "symbol": "circle"
           },
           "mode": "markers",
           "name": "Other_Service",
           "orientation": "v",
           "showlegend": true,
           "type": "scatter",
           "x": [
            "2016"
           ],
           "xaxis": "x",
           "y": [
            72400
           ],
           "yaxis": "y"
          }
         ],
         "name": "2016"
        },
        {
         "data": [
          {
           "hovertemplate": "Industry=Agriculture<br>variable=%{x}<br>value=%{y}<extra></extra>",
           "ids": [
            "Agriculture"
           ],
           "legendgroup": "Agriculture",
           "marker": {
            "color": "#636efa",
            "symbol": "circle"
           },
           "mode": "markers",
           "name": "Agriculture",
           "orientation": "v",
           "showlegend": true,
           "type": "scatter",
           "x": [
            "2017"
           ],
           "xaxis": "x",
           "y": [
            40200
           ],
           "yaxis": "y"
          },
          {
           "hovertemplate": "Industry=Production <br>variable=%{x}<br>value=%{y}<extra></extra>",
           "ids": [
            "Production "
           ],
           "legendgroup": "Production ",
           "marker": {
            "color": "#EF553B",
            "symbol": "circle"
           },
           "mode": "markers",
           "name": "Production ",
           "orientation": "v",
           "showlegend": true,
           "type": "scatter",
           "x": [
            "2017"
           ],
           "xaxis": "x",
           "y": [
            165100
           ],
           "yaxis": "y"
          },
          {
           "hovertemplate": "Industry=Construction <br>variable=%{x}<br>value=%{y}<extra></extra>",
           "ids": [
            "Construction "
           ],
           "legendgroup": "Construction ",
           "marker": {
            "color": "#00cc96",
            "symbol": "circle"
           },
           "mode": "markers",
           "name": "Construction ",
           "orientation": "v",
           "showlegend": true,
           "type": "scatter",
           "x": [
            "2017"
           ],
           "xaxis": "x",
           "y": [
            90800
           ],
           "yaxis": "y"
          },
          {
           "hovertemplate": "Industry=Retail<br>variable=%{x}<br>value=%{y}<extra></extra>",
           "ids": [
            "Retail"
           ],
           "legendgroup": "Retail",
           "marker": {
            "color": "#ab63fa",
            "symbol": "circle"
           },
           "mode": "markers",
           "name": "Retail",
           "orientation": "v",
           "showlegend": true,
           "type": "scatter",
           "x": [
            "2017"
           ],
           "xaxis": "x",
           "y": [
            333500
           ],
           "yaxis": "y"
          },
          {
           "hovertemplate": "Industry=ICT<br>variable=%{x}<br>value=%{y}<extra></extra>",
           "ids": [
            "ICT"
           ],
           "legendgroup": "ICT",
           "marker": {
            "color": "#FFA15A",
            "symbol": "circle"
           },
           "mode": "markers",
           "name": "ICT",
           "orientation": "v",
           "showlegend": true,
           "type": "scatter",
           "x": [
            "2017"
           ],
           "xaxis": "x",
           "y": [
            58900
           ],
           "yaxis": "y"
          },
          {
           "hovertemplate": "Industry=Finance<br>variable=%{x}<br>value=%{y}<extra></extra>",
           "ids": [
            "Finance"
           ],
           "legendgroup": "Finance",
           "marker": {
            "color": "#19d3f3",
            "symbol": "circle"
           },
           "mode": "markers",
           "name": "Finance",
           "orientation": "v",
           "showlegend": true,
           "type": "scatter",
           "x": [
            "2017"
           ],
           "xaxis": "x",
           "y": [
            32100
           ],
           "yaxis": "y"
          },
          {
           "hovertemplate": "Industry=Real_Estate<br>variable=%{x}<br>value=%{y}<extra></extra>",
           "ids": [
            "Real_Estate"
           ],
           "legendgroup": "Real_Estate",
           "marker": {
            "color": "#FF6692",
            "symbol": "circle"
           },
           "mode": "markers",
           "name": "Real_Estate",
           "orientation": "v",
           "showlegend": true,
           "type": "scatter",
           "x": [
            "2017"
           ],
           "xaxis": "x",
           "y": [
            18200
           ],
           "yaxis": "y"
          },
          {
           "hovertemplate": "Industry=Professional_Service<br>variable=%{x}<br>value=%{y}<extra></extra>",
           "ids": [
            "Professional_Service"
           ],
           "legendgroup": "Professional_Service",
           "marker": {
            "color": "#B6E880",
            "symbol": "circle"
           },
           "mode": "markers",
           "name": "Professional_Service",
           "orientation": "v",
           "showlegend": true,
           "type": "scatter",
           "x": [
            "2017"
           ],
           "xaxis": "x",
           "y": [
            176400
           ],
           "yaxis": "y"
          },
          {
           "hovertemplate": "Industry=Public_Administration<br>variable=%{x}<br>value=%{y}<extra></extra>",
           "ids": [
            "Public_Administration"
           ],
           "legendgroup": "Public_Administration",
           "marker": {
            "color": "#FF97FF",
            "symbol": "circle"
           },
           "mode": "markers",
           "name": "Public_Administration",
           "orientation": "v",
           "showlegend": true,
           "type": "scatter",
           "x": [
            "2017"
           ],
           "xaxis": "x",
           "y": [
            424500
           ],
           "yaxis": "y"
          },
          {
           "hovertemplate": "Industry=Other_Service<br>variable=%{x}<br>value=%{y}<extra></extra>",
           "ids": [
            "Other_Service"
           ],
           "legendgroup": "Other_Service",
           "marker": {
            "color": "#FECB52",
            "symbol": "circle"
           },
           "mode": "markers",
           "name": "Other_Service",
           "orientation": "v",
           "showlegend": true,
           "type": "scatter",
           "x": [
            "2017"
           ],
           "xaxis": "x",
           "y": [
            83200
           ],
           "yaxis": "y"
          }
         ],
         "name": "2017"
        },
        {
         "data": [
          {
           "hovertemplate": "Industry=Agriculture<br>variable=%{x}<br>value=%{y}<extra></extra>",
           "ids": [
            "Agriculture"
           ],
           "legendgroup": "Agriculture",
           "marker": {
            "color": "#636efa",
            "symbol": "circle"
           },
           "mode": "markers",
           "name": "Agriculture",
           "orientation": "v",
           "showlegend": true,
           "type": "scatter",
           "x": [
            "2018"
           ],
           "xaxis": "x",
           "y": [
            41100
           ],
           "yaxis": "y"
          },
          {
           "hovertemplate": "Industry=Production <br>variable=%{x}<br>value=%{y}<extra></extra>",
           "ids": [
            "Production "
           ],
           "legendgroup": "Production ",
           "marker": {
            "color": "#EF553B",
            "symbol": "circle"
           },
           "mode": "markers",
           "name": "Production ",
           "orientation": "v",
           "showlegend": true,
           "type": "scatter",
           "x": [
            "2018"
           ],
           "xaxis": "x",
           "y": [
            165700
           ],
           "yaxis": "y"
          },
          {
           "hovertemplate": "Industry=Construction <br>variable=%{x}<br>value=%{y}<extra></extra>",
           "ids": [
            "Construction "
           ],
           "legendgroup": "Construction ",
           "marker": {
            "color": "#00cc96",
            "symbol": "circle"
           },
           "mode": "markers",
           "name": "Construction ",
           "orientation": "v",
           "showlegend": true,
           "type": "scatter",
           "x": [
            "2018"
           ],
           "xaxis": "x",
           "y": [
            101800
           ],
           "yaxis": "y"
          },
          {
           "hovertemplate": "Industry=Retail<br>variable=%{x}<br>value=%{y}<extra></extra>",
           "ids": [
            "Retail"
           ],
           "legendgroup": "Retail",
           "marker": {
            "color": "#ab63fa",
            "symbol": "circle"
           },
           "mode": "markers",
           "name": "Retail",
           "orientation": "v",
           "showlegend": true,
           "type": "scatter",
           "x": [
            "2018"
           ],
           "xaxis": "x",
           "y": [
            347600
           ],
           "yaxis": "y"
          },
          {
           "hovertemplate": "Industry=ICT<br>variable=%{x}<br>value=%{y}<extra></extra>",
           "ids": [
            "ICT"
           ],
           "legendgroup": "ICT",
           "marker": {
            "color": "#FFA15A",
            "symbol": "circle"
           },
           "mode": "markers",
           "name": "ICT",
           "orientation": "v",
           "showlegend": true,
           "type": "scatter",
           "x": [
            "2018"
           ],
           "xaxis": "x",
           "y": [
            31500
           ],
           "yaxis": "y"
          },
          {
           "hovertemplate": "Industry=Finance<br>variable=%{x}<br>value=%{y}<extra></extra>",
           "ids": [
            "Finance"
           ],
           "legendgroup": "Finance",
           "marker": {
            "color": "#19d3f3",
            "symbol": "circle"
           },
           "mode": "markers",
           "name": "Finance",
           "orientation": "v",
           "showlegend": true,
           "type": "scatter",
           "x": [
            "2018"
           ],
           "xaxis": "x",
           "y": [
            35500
           ],
           "yaxis": "y"
          },
          {
           "hovertemplate": "Industry=Real_Estate<br>variable=%{x}<br>value=%{y}<extra></extra>",
           "ids": [
            "Real_Estate"
           ],
           "legendgroup": "Real_Estate",
           "marker": {
            "color": "#FF6692",
            "symbol": "circle"
           },
           "mode": "markers",
           "name": "Real_Estate",
           "orientation": "v",
           "showlegend": true,
           "type": "scatter",
           "x": [
            "2018"
           ],
           "xaxis": "x",
           "y": [
            25200
           ],
           "yaxis": "y"
          },
          {
           "hovertemplate": "Industry=Professional_Service<br>variable=%{x}<br>value=%{y}<extra></extra>",
           "ids": [
            "Professional_Service"
           ],
           "legendgroup": "Professional_Service",
           "marker": {
            "color": "#B6E880",
            "symbol": "circle"
           },
           "mode": "markers",
           "name": "Professional_Service",
           "orientation": "v",
           "showlegend": true,
           "type": "scatter",
           "x": [
            "2018"
           ],
           "xaxis": "x",
           "y": [
            187100
           ],
           "yaxis": "y"
          },
          {
           "hovertemplate": "Industry=Public_Administration<br>variable=%{x}<br>value=%{y}<extra></extra>",
           "ids": [
            "Public_Administration"
           ],
           "legendgroup": "Public_Administration",
           "marker": {
            "color": "#FF97FF",
            "symbol": "circle"
           },
           "mode": "markers",
           "name": "Public_Administration",
           "orientation": "v",
           "showlegend": true,
           "type": "scatter",
           "x": [
            "2018"
           ],
           "xaxis": "x",
           "y": [
            434900
           ],
           "yaxis": "y"
          },
          {
           "hovertemplate": "Industry=Other_Service<br>variable=%{x}<br>value=%{y}<extra></extra>",
           "ids": [
            "Other_Service"
           ],
           "legendgroup": "Other_Service",
           "marker": {
            "color": "#FECB52",
            "symbol": "circle"
           },
           "mode": "markers",
           "name": "Other_Service",
           "orientation": "v",
           "showlegend": true,
           "type": "scatter",
           "x": [
            "2018"
           ],
           "xaxis": "x",
           "y": [
            81800
           ],
           "yaxis": "y"
          }
         ],
         "name": "2018"
        }
       ],
       "layout": {
        "legend": {
         "title": {
          "text": "Industry"
         },
         "tracegroupgap": 0
        },
        "margin": {
         "t": 60
        },
        "sliders": [
         {
          "active": 0,
          "currentvalue": {
           "prefix": "variable="
          },
          "len": 0.9,
          "pad": {
           "b": 10,
           "t": 60
          },
          "steps": [
           {
            "args": [
             [
              "2009"
             ],
             {
              "frame": {
               "duration": 0,
               "redraw": false
              },
              "fromcurrent": true,
              "mode": "immediate",
              "transition": {
               "duration": 0,
               "easing": "linear"
              }
             }
            ],
            "label": "2009",
            "method": "animate"
           },
           {
            "args": [
             [
              "2010"
             ],
             {
              "frame": {
               "duration": 0,
               "redraw": false
              },
              "fromcurrent": true,
              "mode": "immediate",
              "transition": {
               "duration": 0,
               "easing": "linear"
              }
             }
            ],
            "label": "2010",
            "method": "animate"
           },
           {
            "args": [
             [
              "2011"
             ],
             {
              "frame": {
               "duration": 0,
               "redraw": false
              },
              "fromcurrent": true,
              "mode": "immediate",
              "transition": {
               "duration": 0,
               "easing": "linear"
              }
             }
            ],
            "label": "2011",
            "method": "animate"
           },
           {
            "args": [
             [
              "2012"
             ],
             {
              "frame": {
               "duration": 0,
               "redraw": false
              },
              "fromcurrent": true,
              "mode": "immediate",
              "transition": {
               "duration": 0,
               "easing": "linear"
              }
             }
            ],
            "label": "2012",
            "method": "animate"
           },
           {
            "args": [
             [
              "2013"
             ],
             {
              "frame": {
               "duration": 0,
               "redraw": false
              },
              "fromcurrent": true,
              "mode": "immediate",
              "transition": {
               "duration": 0,
               "easing": "linear"
              }
             }
            ],
            "label": "2013",
            "method": "animate"
           },
           {
            "args": [
             [
              "2014"
             ],
             {
              "frame": {
               "duration": 0,
               "redraw": false
              },
              "fromcurrent": true,
              "mode": "immediate",
              "transition": {
               "duration": 0,
               "easing": "linear"
              }
             }
            ],
            "label": "2014",
            "method": "animate"
           },
           {
            "args": [
             [
              "2015"
             ],
             {
              "frame": {
               "duration": 0,
               "redraw": false
              },
              "fromcurrent": true,
              "mode": "immediate",
              "transition": {
               "duration": 0,
               "easing": "linear"
              }
             }
            ],
            "label": "2015",
            "method": "animate"
           },
           {
            "args": [
             [
              "2016"
             ],
             {
              "frame": {
               "duration": 0,
               "redraw": false
              },
              "fromcurrent": true,
              "mode": "immediate",
              "transition": {
               "duration": 0,
               "easing": "linear"
              }
             }
            ],
            "label": "2016",
            "method": "animate"
           },
           {
            "args": [
             [
              "2017"
             ],
             {
              "frame": {
               "duration": 0,
               "redraw": false
              },
              "fromcurrent": true,
              "mode": "immediate",
              "transition": {
               "duration": 0,
               "easing": "linear"
              }
             }
            ],
            "label": "2017",
            "method": "animate"
           },
           {
            "args": [
             [
              "2018"
             ],
             {
              "frame": {
               "duration": 0,
               "redraw": false
              },
              "fromcurrent": true,
              "mode": "immediate",
              "transition": {
               "duration": 0,
               "easing": "linear"
              }
             }
            ],
            "label": "2018",
            "method": "animate"
           }
          ],
          "x": 0.1,
          "xanchor": "left",
          "y": 0,
          "yanchor": "top"
         }
        ],
        "template": {
         "data": {
          "bar": [
           {
            "error_x": {
             "color": "#2a3f5f"
            },
            "error_y": {
             "color": "#2a3f5f"
            },
            "marker": {
             "line": {
              "color": "#E5ECF6",
              "width": 0.5
             },
             "pattern": {
              "fillmode": "overlay",
              "size": 10,
              "solidity": 0.2
             }
            },
            "type": "bar"
           }
          ],
          "barpolar": [
           {
            "marker": {
             "line": {
              "color": "#E5ECF6",
              "width": 0.5
             },
             "pattern": {
              "fillmode": "overlay",
              "size": 10,
              "solidity": 0.2
             }
            },
            "type": "barpolar"
           }
          ],
          "carpet": [
           {
            "aaxis": {
             "endlinecolor": "#2a3f5f",
             "gridcolor": "white",
             "linecolor": "white",
             "minorgridcolor": "white",
             "startlinecolor": "#2a3f5f"
            },
            "baxis": {
             "endlinecolor": "#2a3f5f",
             "gridcolor": "white",
             "linecolor": "white",
             "minorgridcolor": "white",
             "startlinecolor": "#2a3f5f"
            },
            "type": "carpet"
           }
          ],
          "choropleth": [
           {
            "colorbar": {
             "outlinewidth": 0,
             "ticks": ""
            },
            "type": "choropleth"
           }
          ],
          "contour": [
           {
            "colorbar": {
             "outlinewidth": 0,
             "ticks": ""
            },
            "colorscale": [
             [
              0,
              "#0d0887"
             ],
             [
              0.1111111111111111,
              "#46039f"
             ],
             [
              0.2222222222222222,
              "#7201a8"
             ],
             [
              0.3333333333333333,
              "#9c179e"
             ],
             [
              0.4444444444444444,
              "#bd3786"
             ],
             [
              0.5555555555555556,
              "#d8576b"
             ],
             [
              0.6666666666666666,
              "#ed7953"
             ],
             [
              0.7777777777777778,
              "#fb9f3a"
             ],
             [
              0.8888888888888888,
              "#fdca26"
             ],
             [
              1,
              "#f0f921"
             ]
            ],
            "type": "contour"
           }
          ],
          "contourcarpet": [
           {
            "colorbar": {
             "outlinewidth": 0,
             "ticks": ""
            },
            "type": "contourcarpet"
           }
          ],
          "heatmap": [
           {
            "colorbar": {
             "outlinewidth": 0,
             "ticks": ""
            },
            "colorscale": [
             [
              0,
              "#0d0887"
             ],
             [
              0.1111111111111111,
              "#46039f"
             ],
             [
              0.2222222222222222,
              "#7201a8"
             ],
             [
              0.3333333333333333,
              "#9c179e"
             ],
             [
              0.4444444444444444,
              "#bd3786"
             ],
             [
              0.5555555555555556,
              "#d8576b"
             ],
             [
              0.6666666666666666,
              "#ed7953"
             ],
             [
              0.7777777777777778,
              "#fb9f3a"
             ],
             [
              0.8888888888888888,
              "#fdca26"
             ],
             [
              1,
              "#f0f921"
             ]
            ],
            "type": "heatmap"
           }
          ],
          "heatmapgl": [
           {
            "colorbar": {
             "outlinewidth": 0,
             "ticks": ""
            },
            "colorscale": [
             [
              0,
              "#0d0887"
             ],
             [
              0.1111111111111111,
              "#46039f"
             ],
             [
              0.2222222222222222,
              "#7201a8"
             ],
             [
              0.3333333333333333,
              "#9c179e"
             ],
             [
              0.4444444444444444,
              "#bd3786"
             ],
             [
              0.5555555555555556,
              "#d8576b"
             ],
             [
              0.6666666666666666,
              "#ed7953"
             ],
             [
              0.7777777777777778,
              "#fb9f3a"
             ],
             [
              0.8888888888888888,
              "#fdca26"
             ],
             [
              1,
              "#f0f921"
             ]
            ],
            "type": "heatmapgl"
           }
          ],
          "histogram": [
           {
            "marker": {
             "pattern": {
              "fillmode": "overlay",
              "size": 10,
              "solidity": 0.2
             }
            },
            "type": "histogram"
           }
          ],
          "histogram2d": [
           {
            "colorbar": {
             "outlinewidth": 0,
             "ticks": ""
            },
            "colorscale": [
             [
              0,
              "#0d0887"
             ],
             [
              0.1111111111111111,
              "#46039f"
             ],
             [
              0.2222222222222222,
              "#7201a8"
             ],
             [
              0.3333333333333333,
              "#9c179e"
             ],
             [
              0.4444444444444444,
              "#bd3786"
             ],
             [
              0.5555555555555556,
              "#d8576b"
             ],
             [
              0.6666666666666666,
              "#ed7953"
             ],
             [
              0.7777777777777778,
              "#fb9f3a"
             ],
             [
              0.8888888888888888,
              "#fdca26"
             ],
             [
              1,
              "#f0f921"
             ]
            ],
            "type": "histogram2d"
           }
          ],
          "histogram2dcontour": [
           {
            "colorbar": {
             "outlinewidth": 0,
             "ticks": ""
            },
            "colorscale": [
             [
              0,
              "#0d0887"
             ],
             [
              0.1111111111111111,
              "#46039f"
             ],
             [
              0.2222222222222222,
              "#7201a8"
             ],
             [
              0.3333333333333333,
              "#9c179e"
             ],
             [
              0.4444444444444444,
              "#bd3786"
             ],
             [
              0.5555555555555556,
              "#d8576b"
             ],
             [
              0.6666666666666666,
              "#ed7953"
             ],
             [
              0.7777777777777778,
              "#fb9f3a"
             ],
             [
              0.8888888888888888,
              "#fdca26"
             ],
             [
              1,
              "#f0f921"
             ]
            ],
            "type": "histogram2dcontour"
           }
          ],
          "mesh3d": [
           {
            "colorbar": {
             "outlinewidth": 0,
             "ticks": ""
            },
            "type": "mesh3d"
           }
          ],
          "parcoords": [
           {
            "line": {
             "colorbar": {
              "outlinewidth": 0,
              "ticks": ""
             }
            },
            "type": "parcoords"
           }
          ],
          "pie": [
           {
            "automargin": true,
            "type": "pie"
           }
          ],
          "scatter": [
           {
            "fillpattern": {
             "fillmode": "overlay",
             "size": 10,
             "solidity": 0.2
            },
            "type": "scatter"
           }
          ],
          "scatter3d": [
           {
            "line": {
             "colorbar": {
              "outlinewidth": 0,
              "ticks": ""
             }
            },
            "marker": {
             "colorbar": {
              "outlinewidth": 0,
              "ticks": ""
             }
            },
            "type": "scatter3d"
           }
          ],
          "scattercarpet": [
           {
            "marker": {
             "colorbar": {
              "outlinewidth": 0,
              "ticks": ""
             }
            },
            "type": "scattercarpet"
           }
          ],
          "scattergeo": [
           {
            "marker": {
             "colorbar": {
              "outlinewidth": 0,
              "ticks": ""
             }
            },
            "type": "scattergeo"
           }
          ],
          "scattergl": [
           {
            "marker": {
             "colorbar": {
              "outlinewidth": 0,
              "ticks": ""
             }
            },
            "type": "scattergl"
           }
          ],
          "scattermapbox": [
           {
            "marker": {
             "colorbar": {
              "outlinewidth": 0,
              "ticks": ""
             }
            },
            "type": "scattermapbox"
           }
          ],
          "scatterpolar": [
           {
            "marker": {
             "colorbar": {
              "outlinewidth": 0,
              "ticks": ""
             }
            },
            "type": "scatterpolar"
           }
          ],
          "scatterpolargl": [
           {
            "marker": {
             "colorbar": {
              "outlinewidth": 0,
              "ticks": ""
             }
            },
            "type": "scatterpolargl"
           }
          ],
          "scatterternary": [
           {
            "marker": {
             "colorbar": {
              "outlinewidth": 0,
              "ticks": ""
             }
            },
            "type": "scatterternary"
           }
          ],
          "surface": [
           {
            "colorbar": {
             "outlinewidth": 0,
             "ticks": ""
            },
            "colorscale": [
             [
              0,
              "#0d0887"
             ],
             [
              0.1111111111111111,
              "#46039f"
             ],
             [
              0.2222222222222222,
              "#7201a8"
             ],
             [
              0.3333333333333333,
              "#9c179e"
             ],
             [
              0.4444444444444444,
              "#bd3786"
             ],
             [
              0.5555555555555556,
              "#d8576b"
             ],
             [
              0.6666666666666666,
              "#ed7953"
             ],
             [
              0.7777777777777778,
              "#fb9f3a"
             ],
             [
              0.8888888888888888,
              "#fdca26"
             ],
             [
              1,
              "#f0f921"
             ]
            ],
            "type": "surface"
           }
          ],
          "table": [
           {
            "cells": {
             "fill": {
              "color": "#EBF0F8"
             },
             "line": {
              "color": "white"
             }
            },
            "header": {
             "fill": {
              "color": "#C8D4E3"
             },
             "line": {
              "color": "white"
             }
            },
            "type": "table"
           }
          ]
         },
         "layout": {
          "annotationdefaults": {
           "arrowcolor": "#2a3f5f",
           "arrowhead": 0,
           "arrowwidth": 1
          },
          "autotypenumbers": "strict",
          "coloraxis": {
           "colorbar": {
            "outlinewidth": 0,
            "ticks": ""
           }
          },
          "colorscale": {
           "diverging": [
            [
             0,
             "#8e0152"
            ],
            [
             0.1,
             "#c51b7d"
            ],
            [
             0.2,
             "#de77ae"
            ],
            [
             0.3,
             "#f1b6da"
            ],
            [
             0.4,
             "#fde0ef"
            ],
            [
             0.5,
             "#f7f7f7"
            ],
            [
             0.6,
             "#e6f5d0"
            ],
            [
             0.7,
             "#b8e186"
            ],
            [
             0.8,
             "#7fbc41"
            ],
            [
             0.9,
             "#4d9221"
            ],
            [
             1,
             "#276419"
            ]
           ],
           "sequential": [
            [
             0,
             "#0d0887"
            ],
            [
             0.1111111111111111,
             "#46039f"
            ],
            [
             0.2222222222222222,
             "#7201a8"
            ],
            [
             0.3333333333333333,
             "#9c179e"
            ],
            [
             0.4444444444444444,
             "#bd3786"
            ],
            [
             0.5555555555555556,
             "#d8576b"
            ],
            [
             0.6666666666666666,
             "#ed7953"
            ],
            [
             0.7777777777777778,
             "#fb9f3a"
            ],
            [
             0.8888888888888888,
             "#fdca26"
            ],
            [
             1,
             "#f0f921"
            ]
           ],
           "sequentialminus": [
            [
             0,
             "#0d0887"
            ],
            [
             0.1111111111111111,
             "#46039f"
            ],
            [
             0.2222222222222222,
             "#7201a8"
            ],
            [
             0.3333333333333333,
             "#9c179e"
            ],
            [
             0.4444444444444444,
             "#bd3786"
            ],
            [
             0.5555555555555556,
             "#d8576b"
            ],
            [
             0.6666666666666666,
             "#ed7953"
            ],
            [
             0.7777777777777778,
             "#fb9f3a"
            ],
            [
             0.8888888888888888,
             "#fdca26"
            ],
            [
             1,
             "#f0f921"
            ]
           ]
          },
          "colorway": [
           "#636efa",
           "#EF553B",
           "#00cc96",
           "#ab63fa",
           "#FFA15A",
           "#19d3f3",
           "#FF6692",
           "#B6E880",
           "#FF97FF",
           "#FECB52"
          ],
          "font": {
           "color": "#2a3f5f"
          },
          "geo": {
           "bgcolor": "white",
           "lakecolor": "white",
           "landcolor": "#E5ECF6",
           "showlakes": true,
           "showland": true,
           "subunitcolor": "white"
          },
          "hoverlabel": {
           "align": "left"
          },
          "hovermode": "closest",
          "mapbox": {
           "style": "light"
          },
          "paper_bgcolor": "white",
          "plot_bgcolor": "#E5ECF6",
          "polar": {
           "angularaxis": {
            "gridcolor": "white",
            "linecolor": "white",
            "ticks": ""
           },
           "bgcolor": "#E5ECF6",
           "radialaxis": {
            "gridcolor": "white",
            "linecolor": "white",
            "ticks": ""
           }
          },
          "scene": {
           "xaxis": {
            "backgroundcolor": "#E5ECF6",
            "gridcolor": "white",
            "gridwidth": 2,
            "linecolor": "white",
            "showbackground": true,
            "ticks": "",
            "zerolinecolor": "white"
           },
           "yaxis": {
            "backgroundcolor": "#E5ECF6",
            "gridcolor": "white",
            "gridwidth": 2,
            "linecolor": "white",
            "showbackground": true,
            "ticks": "",
            "zerolinecolor": "white"
           },
           "zaxis": {
            "backgroundcolor": "#E5ECF6",
            "gridcolor": "white",
            "gridwidth": 2,
            "linecolor": "white",
            "showbackground": true,
            "ticks": "",
            "zerolinecolor": "white"
           }
          },
          "shapedefaults": {
           "line": {
            "color": "#2a3f5f"
           }
          },
          "ternary": {
           "aaxis": {
            "gridcolor": "white",
            "linecolor": "white",
            "ticks": ""
           },
           "baxis": {
            "gridcolor": "white",
            "linecolor": "white",
            "ticks": ""
           },
           "bgcolor": "#E5ECF6",
           "caxis": {
            "gridcolor": "white",
            "linecolor": "white",
            "ticks": ""
           }
          },
          "title": {
           "x": 0.05
          },
          "xaxis": {
           "automargin": true,
           "gridcolor": "white",
           "linecolor": "white",
           "ticks": "",
           "title": {
            "standoff": 15
           },
           "zerolinecolor": "white",
           "zerolinewidth": 2
          },
          "yaxis": {
           "automargin": true,
           "gridcolor": "white",
           "linecolor": "white",
           "ticks": "",
           "title": {
            "standoff": 15
           },
           "zerolinecolor": "white",
           "zerolinewidth": 2
          }
         }
        },
        "updatemenus": [
         {
          "buttons": [
           {
            "args": [
             null,
             {
              "frame": {
               "duration": 500,
               "redraw": false
              },
              "fromcurrent": true,
              "mode": "immediate",
              "transition": {
               "duration": 500,
               "easing": "linear"
              }
             }
            ],
            "label": "&#9654;",
            "method": "animate"
           },
           {
            "args": [
             [
              null
             ],
             {
              "frame": {
               "duration": 0,
               "redraw": false
              },
              "fromcurrent": true,
              "mode": "immediate",
              "transition": {
               "duration": 0,
               "easing": "linear"
              }
             }
            ],
            "label": "&#9724;",
            "method": "animate"
           }
          ],
          "direction": "left",
          "pad": {
           "r": 10,
           "t": 70
          },
          "showactive": false,
          "type": "buttons",
          "x": 0.1,
          "xanchor": "right",
          "y": 0,
          "yanchor": "top"
         }
        ],
        "xaxis": {
         "anchor": "y",
         "categoryarray": [
          "2009",
          "2010",
          "2011",
          "2012",
          "2013",
          "2014",
          "2015",
          "2016",
          "2017",
          "2018"
         ],
         "categoryorder": "array",
         "domain": [
          0,
          1
         ],
         "range": [
          2008,
          2019
         ],
         "tickangle": 90,
         "tickfont": {
          "color": "black",
          "size": 14
         },
         "tickmode": "linear",
         "title": {
          "text": "variable"
         }
        },
        "yaxis": {
         "anchor": "x",
         "domain": [
          0,
          1
         ],
         "range": [
          0,
          450000
         ],
         "title": {
          "text": "value"
         }
        }
       }
      }
     },
     "metadata": {},
     "output_type": "display_data"
    }
   ],
   "source": [
    "# TASK 3 - Data manipulation in lieu of scatter plot creation\n",
    "\n",
    "#Show worst and best performing sectors\n",
    "temp_calc_df = calc_df.drop(['Industry_Totals'], axis = 1)\n",
    "\n",
    "temp_calc_df.drop([10], inplace = True)\n",
    "\n",
    "melt_df = pd.melt(temp_calc_df, id_vars=['Industry'])\n",
    "\n",
    "if len(colors) <= 10:\n",
    "    colors = colors * 10\n",
    "\n",
    "# Create interactive, dynamic scatter plot\n",
    "figure4 = px.scatter(melt_df, \n",
    "                     x = melt_df.variable, \n",
    "                     y = melt_df.value, \n",
    "                     animation_frame = melt_df.variable, \n",
    "                     animation_group = melt_df.Industry,\n",
    "                     color = melt_df.Industry,\n",
    "                     range_x = [2008,2019], \n",
    "                     range_y = [0,450000]\n",
    "                )\n",
    "\n",
    "figure4.update_xaxes(tickangle=90, tickfont=dict(color='black', size=14), tickmode='linear')\n",
    "figure4.show()"
   ]
  },
  {
   "cell_type": "code",
   "execution_count": null,
   "metadata": {},
   "outputs": [],
   "source": [
    "from scikit-learn.cluster import KMeans\n",
    "from scikit-learn.decomposition import PCA\n",
    "from scikit-learn.preprocessing import StandardScaler\n",
    "\n",
    "# TASK 4 - Data manipulation in lieu of principal component analysis\n",
    "\n",
    "#Data preprocessing\n",
    "temp_calc_df = calc_df.drop(['Industry_Totals'], axis = 1)\n",
    "\n",
    "x_range = temp_calc_df.loc[:, years].values\n",
    "\n",
    "y_range = temp_calc_df.loc[:,['Industry']].values\n",
    "\n",
    "x_range = StandardScaler().fit_transform(x_range)\n",
    "\n",
    "pd.DataFrame(data = x_range, columns = years)\n",
    "\n",
    "#Principal component analysis\n",
    "pca = PCA(n_components=2)\n",
    "\n",
    "principalComponents = pca.fit_transform(x_range)\n",
    "\n",
    "principal_df = pd.DataFrame(data = principalComponents,\n",
    "               columns = ['principal component 1', 'principal component 2'])\n",
    "\n",
    "plot_df = pd.concat([principal_df, calc_df[['Industry']]], axis = 1)\n",
    "\n",
    "fig = plt.figure(figsize = (8,8))\n",
    "ax = fig.add_subplot(1,1,1) \n",
    "ax.set_xlabel('Principal Component 1', fontsize = 15)\n",
    "ax.set_ylabel('Principal Component 2', fontsize = 15)\n",
    "ax.set_title('2 Component PCA', fontsize = 20)\n",
    "\n",
    "colors = ['#0000ff', '#ff0000', '#00ff00', '#dd00ff', '#ffaa00', '#00bbff', '#ff6666', '#ccee88', '#ffaadd', '#ffdd00']\n",
    "\n",
    "for industry, color in zip(industry_names,colors):\n",
    "    indicesToKeep = plot_df['Industry'] == industry\n",
    "    ax.scatter(plot_df.loc[indicesToKeep, 'principal component 1'],\n",
    "               plot_df.loc[indicesToKeep, 'principal component 2'],\n",
    "               c = color,\n",
    "               s = 50\n",
    "              )\n",
    "ax.legend(industry_names)\n",
    "ax.grid()\n",
    "\n",
    "#Heatmap generation\n",
    "plt.figure(figsize=(20,15))\n",
    "\n",
    "sns.heatmap(main_df.corr(), annot=True, fmt=\".5f\", linewidths=.5)\n",
    "\n",
    "# TASK 5 - K-Means cluster code\n",
    "#prepare data frame for cluster purposes\n",
    "cluster_df = temp_calc_df.drop(['2009'], axis = 1)\n",
    "cluster_df = cluster_df.drop([10], axis = 0)\n",
    "new_cluster_df = cluster_df.drop(['Industry'], axis = 1)\n",
    "cluster_df = cluster_df.drop(['2011', '2012', '2013', '2014', '2015', '2016', '2017'], axis = 1)\n",
    "cluster_df = cluster_df.set_index(\"Industry\")\n",
    "\n",
    "#fig, ax = plt.subplots()\n",
    "#cluster_df.plot('2010', '2018', kind='scatter', ax=ax)\n",
    "\n",
    "#for k, v in cluster_df.iterrows():\n",
    "#    ax.annotate(k, v)\n",
    "    \n",
    "#fig.canvas.draw()\n",
    "arr = new_cluster_df.to_numpy()\n",
    "\n",
    "plt.figure(figsize=(20,20))\n",
    "\n",
    "kmeans2 = KMeans(n_clusters=2, max_iter=50, random_state=1)  \n",
    "kmeans2.fit(arr)\n",
    "plt.scatter(arr[:,0], arr[:,1], c=kmeans2.labels_, cmap='rainbow', s=200)\n",
    "plt.rcParams.update({'font.size': 18})\n",
    "x_value=arr[:,0]\n",
    "y_value=arr[:,1]\n",
    "for r in range(0, 10, 1):\n",
    "    plt.annotate(industry_names[r], (x_value[r], y_value[r]))\n",
    "    \n",
    "plt.figure(figsize=(20,20))\n",
    "plt.scatter(kmeans2.cluster_centers_[:,0], kmeans2.cluster_centers_[:,1], s=600, color='black')\n",
    "\n",
    "plt.figure(figsize=(20,20))\n",
    "kmeans3 = KMeans(n_clusters=3, max_iter=50, random_state=1)  \n",
    "kmeans3.fit(arr)\n",
    "plt.scatter(arr[:,0], arr[:,1], c=kmeans3.labels_, cmap='rainbow', s=200)\n",
    "x_value=arr[:,0]\n",
    "y_value=arr[:,1]\n",
    "for r in range(0, 10, 1):\n",
    "    plt.annotate(industry_names[r], (x_value[r], y_value[r]))\n",
    "\n",
    "plt.figure(figsize=(20,20))\n",
    "plt.scatter(kmeans3.cluster_centers_[:,0], kmeans3.cluster_centers_[:,1], s=600, color='black')\n",
    "\n",
    "# TASK 6 - Hierarchy Map\n",
    "\n",
    "hierarchy_data_df = temp_calc_df.drop(['Industry'], axis = 1)\n",
    "hierarchy_data_df = hierarchy_data_df.drop([10], axis = 0)\n",
    "hierarchy_df = hierarchy.linkage(hierarchy_data_df.values, 'single')\n",
    "dn = hierarchy.dendrogram(hierarchy_df, labels=industry_names.to_list(), orientation='right')"
   ]
  }
 ],
 "metadata": {
  "kernelspec": {
   "display_name": "base",
   "language": "python",
   "name": "python3"
  },
  "language_info": {
   "codemirror_mode": {
    "name": "ipython",
    "version": 3
   },
   "file_extension": ".py",
   "mimetype": "text/x-python",
   "name": "python",
   "nbconvert_exporter": "python",
   "pygments_lexer": "ipython3",
   "version": "3.12.7"
  }
 },
 "nbformat": 4,
 "nbformat_minor": 2
}
